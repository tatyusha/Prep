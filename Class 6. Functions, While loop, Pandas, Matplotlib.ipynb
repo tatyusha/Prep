{
 "cells": [
  {
   "cell_type": "markdown",
   "metadata": {},
   "source": [
    "# Class 6: Functions, While loop, Pandas, Matplotlib\n",
    "\n",
    "In this notebook the following main topics are covered:\n",
    "- **Defining functions**: salary calculatior, finding position of a word in text\n",
    "- **While loop**\n",
    "- **Multidimensional lists**\n",
    "- **Installing and importing libraries**\n",
    "- **Pandas**: creating, reading dataframe; doing data description and data transformation\n",
    "- **IMDB Top250 Movie Chart**\n",
    "- **Matplotlib and pandas basic charts**: bar plot, line plot, histogram"
   ]
  },
  {
   "cell_type": "markdown",
   "metadata": {},
   "source": [
    "# Functions"
   ]
  },
  {
   "cell_type": "markdown",
   "metadata": {},
   "source": [
    "## Creating Salary Calculator in Python"
   ]
  },
  {
   "cell_type": "markdown",
   "metadata": {},
   "source": [
    "**Income tax %- 22%**\n",
    "\n",
    "**Pension fee:**\n",
    "- up to 500 000 - 3.5%\n",
    "- (500 000-1 020 000] - Salary * 10% - 32500\n",
    "- More than 1 020 000 - 69 500\n",
    "\n",
    "**Army Fee:** \n",
    "- up to 100000 - 1500dram\n",
    "- (100000,200000] - 3000\n",
    "- (200000,500000]- 5500\n",
    "- (500000,1000000] - 8500\n",
    "- more than 1000000 - 15000"
   ]
  },
  {
   "cell_type": "code",
   "execution_count": 1,
   "metadata": {},
   "outputs": [],
   "source": [
    "def salary_calculator():\n",
    "    Salary=float(input(\"Please Enter your gross salary:\"))\n",
    "    #income tax condition\n",
    "    Income_tax=0.22*Salary\n",
    "    #pension fee conditions\n",
    "    if Salary<=500000:\n",
    "        Pension=0.035*Salary\n",
    "    elif Salary>500000 and Salary<=1020000:\n",
    "        Pension=0.1*Salary-32500\n",
    "    else:\n",
    "        Pension=69500\n",
    "    #army fee conditions\n",
    "    if Salary<=100000:\n",
    "        Army_fee=1500\n",
    "    elif Salary>100000 and Salary<=200000:\n",
    "        Army_fee=3000\n",
    "    elif Salary>200000 and Salary<=500000:\n",
    "        Army_fee=5500\n",
    "    elif alary>500000 and Salary<=1000000:\n",
    "        Army_fee=8500\n",
    "    else:\n",
    "        Army_fee=15000\n",
    "    #calculating net salary\n",
    "    Net_Salary=Salary-Income_tax-Pension-Army_fee\n",
    "    return Net_Salary #output of function is net salary"
   ]
  },
  {
   "cell_type": "code",
   "execution_count": 2,
   "metadata": {},
   "outputs": [
    {
     "name": "stdout",
     "output_type": "stream",
     "text": [
      "Please Enter your gross salary:250000\n"
     ]
    },
    {
     "data": {
      "text/plain": [
       "180750.0"
      ]
     },
     "execution_count": 2,
     "metadata": {},
     "output_type": "execute_result"
    }
   ],
   "source": [
    "#let's check for 250000 AMD\n",
    "salary_calculator()"
   ]
  },
  {
   "cell_type": "markdown",
   "metadata": {},
   "source": [
    "# While loop"
   ]
  },
  {
   "cell_type": "markdown",
   "metadata": {},
   "source": [
    "While loop is doing the following:\n",
    "- Evaluate the condition, yielding True or False.\n",
    "- If the condition is false, exit the while statement and continue execution at the next statement.\n",
    "- If the condition is true, execute the body and then go back to step 1."
   ]
  },
  {
   "cell_type": "code",
   "execution_count": 3,
   "metadata": {},
   "outputs": [
    {
     "name": "stdout",
     "output_type": "stream",
     "text": [
      "2\n",
      "4\n",
      "6\n",
      "8\n"
     ]
    }
   ],
   "source": [
    "#instead of the following manual printing of even numbers that are less than 10, use while loop\n",
    "print(2)\n",
    "print(4)\n",
    "print(6)\n",
    "print(8)"
   ]
  },
  {
   "cell_type": "code",
   "execution_count": 12,
   "metadata": {},
   "outputs": [
    {
     "name": "stdout",
     "output_type": "stream",
     "text": [
      "4\n",
      "6\n",
      "8\n",
      "10\n"
     ]
    }
   ],
   "source": [
    "#while loop\n",
    "i=2\n",
    "while i<10:\n",
    "    i+=2\n",
    "    print(i)"
   ]
  },
  {
   "cell_type": "markdown",
   "metadata": {},
   "source": [
    "### While loop and working with strings"
   ]
  },
  {
   "cell_type": "code",
   "execution_count": 5,
   "metadata": {},
   "outputs": [
    {
     "data": {
      "text/plain": [
       "str"
      ]
     },
     "execution_count": 5,
     "metadata": {},
     "output_type": "execute_result"
    }
   ],
   "source": [
    "#let's create a quote that is string\n",
    "quote_orig='In this world, you should always be suspicious of the knowledge you drive from data'\n",
    "type(quote_orig)"
   ]
  },
  {
   "cell_type": "code",
   "execution_count": 6,
   "metadata": {},
   "outputs": [],
   "source": [
    "#use split() function to create list from strings, by default it splits items in astring by space (you can change that)\n",
    "quote=quote_orig.split()"
   ]
  },
  {
   "cell_type": "code",
   "execution_count": 7,
   "metadata": {},
   "outputs": [
    {
     "name": "stdout",
     "output_type": "stream",
     "text": [
      "<class 'list'>\n",
      "15\n"
     ]
    }
   ],
   "source": [
    "#length of quote that is now list of words\n",
    "print(type(quote))\n",
    "print(len(quote))"
   ]
  },
  {
   "cell_type": "code",
   "execution_count": 8,
   "metadata": {},
   "outputs": [],
   "source": [
    "#let's define a function that will search a word in specified text\n",
    "def find_word(text,word):\n",
    "    index=0\n",
    "    text=text.split()\n",
    "    while index<len(text):\n",
    "        if word==text[index]:\n",
    "            return index\n",
    "        index=index+1\n",
    "    return 'Nothing has been found'"
   ]
  },
  {
   "cell_type": "code",
   "execution_count": 9,
   "metadata": {},
   "outputs": [
    {
     "data": {
      "text/plain": [
       "10"
      ]
     },
     "execution_count": 9,
     "metadata": {},
     "output_type": "execute_result"
    }
   ],
   "source": [
    "#let's apply the find_word() function on \"knowledge\"\n",
    "find_word(quote_orig,'knowledge')"
   ]
  },
  {
   "cell_type": "code",
   "execution_count": 10,
   "metadata": {},
   "outputs": [
    {
     "data": {
      "text/plain": [
       "'Nothing has been found'"
      ]
     },
     "execution_count": 10,
     "metadata": {},
     "output_type": "execute_result"
    }
   ],
   "source": [
    "#output when word is not in atext\n",
    "find_word(quote_orig,'pssss')"
   ]
  },
  {
   "cell_type": "markdown",
   "metadata": {},
   "source": [
    "# List **Comprehensions**"
   ]
  },
  {
   "cell_type": "markdown",
   "metadata": {},
   "source": [
    "- **Only for statement**: First output should be printed then for statement,\n",
    "- **for statement + if statement**: Fisrt output should be printed, then for statement, then if statement,\n",
    "- **for statement + if statement+elif/else statement/s**: Fisrt output should be printed, then if statement,then else/elif, and at the end for statement should be printed."
   ]
  },
  {
   "cell_type": "code",
   "execution_count": 2,
   "metadata": {},
   "outputs": [],
   "source": [
    "#let's define two lists and apply  standard for and list comprehensions on them\n",
    "a=[1,2,3,4,5]\n",
    "b=['a','b','c','d','e'] "
   ]
  },
  {
   "cell_type": "code",
   "execution_count": 3,
   "metadata": {},
   "outputs": [
    {
     "name": "stdout",
     "output_type": "stream",
     "text": [
      "1\n",
      "2\n",
      "3\n",
      "4\n",
      "5\n"
     ]
    }
   ],
   "source": [
    "#standard for loop\n",
    "for i in a:\n",
    "        print(i)"
   ]
  },
  {
   "cell_type": "code",
   "execution_count": 6,
   "metadata": {},
   "outputs": [
    {
     "name": "stdout",
     "output_type": "stream",
     "text": [
      "[1, 2, 3, 4, 5]\n"
     ]
    }
   ],
   "source": [
    "#list comprehension\n",
    "print([i for i in a])"
   ]
  },
  {
   "cell_type": "code",
   "execution_count": 5,
   "metadata": {},
   "outputs": [
    {
     "name": "stdout",
     "output_type": "stream",
     "text": [
      "1\n",
      "2\n",
      "3\n",
      "4\n",
      "5\n"
     ]
    },
    {
     "data": {
      "text/plain": [
       "[None, None, None, None, None]"
      ]
     },
     "execution_count": 5,
     "metadata": {},
     "output_type": "execute_result"
    }
   ],
   "source": [
    "[print(i) for i in a]"
   ]
  },
  {
   "cell_type": "markdown",
   "metadata": {},
   "source": [
    "> **Note** In the cell above,we used a list comprehension to print the items in the list, and then the list itself is printed, however since we didn't store a list as new list, its items are empty and print returns 'None'."
   ]
  },
  {
   "cell_type": "code",
   "execution_count": 15,
   "metadata": {},
   "outputs": [
    {
     "name": "stdout",
     "output_type": "stream",
     "text": [
      "[1, 'a']\n",
      "[1, 'b']\n",
      "[1, 'c']\n",
      "[1, 'd']\n",
      "[1, 'e']\n",
      "[2, 'a']\n",
      "[2, 'b']\n",
      "[2, 'c']\n",
      "[2, 'd']\n",
      "[2, 'e']\n",
      "[3, 'a']\n",
      "[3, 'b']\n",
      "[3, 'c']\n",
      "[3, 'd']\n",
      "[3, 'e']\n",
      "[4, 'a']\n",
      "[4, 'b']\n",
      "[4, 'c']\n",
      "[4, 'd']\n",
      "[4, 'e']\n",
      "[5, 'a']\n",
      "[5, 'b']\n",
      "[5, 'c']\n",
      "[5, 'd']\n",
      "[5, 'e']\n"
     ]
    }
   ],
   "source": [
    "#standard for loop\n",
    "for i in a:\n",
    "    for j in b:\n",
    "        print(list((i,j)))"
   ]
  },
  {
   "cell_type": "code",
   "execution_count": 16,
   "metadata": {},
   "outputs": [
    {
     "name": "stdout",
     "output_type": "stream",
     "text": [
      "[(1, 'a'), (1, 'b'), (1, 'c'), (1, 'd'), (1, 'e'), (2, 'a'), (2, 'b'), (2, 'c'), (2, 'd'), (2, 'e'), (3, 'a'), (3, 'b'), (3, 'c'), (3, 'd'), (3, 'e'), (4, 'a'), (4, 'b'), (4, 'c'), (4, 'd'), (4, 'e'), (5, 'a'), (5, 'b'), (5, 'c'), (5, 'd'), (5, 'e')]\n"
     ]
    }
   ],
   "source": [
    "#List Comprehensions\n",
    "#two for loops should be written side by using only space between them\n",
    "a_new=[(i,j) for i in a for j in b]\n",
    "print(a_new)"
   ]
  },
  {
   "cell_type": "code",
   "execution_count": 17,
   "metadata": {},
   "outputs": [
    {
     "name": "stdout",
     "output_type": "stream",
     "text": [
      "(1, 'a') (1, 'b') (1, 'c') (1, 'd') (1, 'e') (2, 'a') (2, 'b') (2, 'c') (2, 'd') (2, 'e') (3, 'a') (3, 'b') (3, 'c') (3, 'd') (3, 'e') (4, 'a') (4, 'b') (4, 'c') (4, 'd') (4, 'e') (5, 'a') (5, 'b') (5, 'c') (5, 'd') (5, 'e')\n",
      "\n",
      "\n",
      "(1, 'a')\n",
      "(1, 'b')\n",
      "(1, 'c')\n",
      "(1, 'd')\n",
      "(1, 'e')\n",
      "(2, 'a')\n",
      "(2, 'b')\n",
      "(2, 'c')\n",
      "(2, 'd')\n",
      "(2, 'e')\n",
      "(3, 'a')\n",
      "(3, 'b')\n",
      "(3, 'c')\n",
      "(3, 'd')\n",
      "(3, 'e')\n",
      "(4, 'a')\n",
      "(4, 'b')\n",
      "(4, 'c')\n",
      "(4, 'd')\n",
      "(4, 'e')\n",
      "(5, 'a')\n",
      "(5, 'b')\n",
      "(5, 'c')\n",
      "(5, 'd')\n",
      "(5, 'e')\n",
      "(1, 'a')----------(1, 'b')----------(1, 'c')----------(1, 'd')----------(1, 'e')----------(2, 'a')----------(2, 'b')----------(2, 'c')----------(2, 'd')----------(2, 'e')----------(3, 'a')----------(3, 'b')----------(3, 'c')----------(3, 'd')----------(3, 'e')----------(4, 'a')----------(4, 'b')----------(4, 'c')----------(4, 'd')----------(4, 'e')----------(5, 'a')----------(5, 'b')----------(5, 'c')----------(5, 'd')----------(5, 'e')\n"
     ]
    }
   ],
   "source": [
    "#demonstrating some print statements\n",
    "print(*a_new)\n",
    "print('\\n')\n",
    "print(*a_new,sep='\\n')\n",
    "print(*a_new,sep='----------')"
   ]
  },
  {
   "cell_type": "code",
   "execution_count": 18,
   "metadata": {},
   "outputs": [],
   "source": [
    "#let's define new list\n",
    "#we want to recide items in this list into positive, negative, zero values\n",
    "c=[1,2,-1,5,10,-100,0]"
   ]
  },
  {
   "cell_type": "code",
   "execution_count": 19,
   "metadata": {},
   "outputs": [
    {
     "data": {
      "text/plain": [
       "['1 is positive', '2 is positive', '5 is positive', '10 is positive']"
      ]
     },
     "execution_count": 19,
     "metadata": {},
     "output_type": "execute_result"
    }
   ],
   "source": [
    "#for loop + if condition in List Comprehensions\n",
    "[f'{i} is positive' for i in c if i>0]"
   ]
  },
  {
   "cell_type": "code",
   "execution_count": 20,
   "metadata": {},
   "outputs": [
    {
     "data": {
      "text/plain": [
       "['1 is positive',\n",
       " '2 is positive',\n",
       " '-1 is not positive',\n",
       " '5 is positive',\n",
       " '10 is positive',\n",
       " '-100 is not positive',\n",
       " '0 is not positive']"
      ]
     },
     "execution_count": 20,
     "metadata": {},
     "output_type": "execute_result"
    }
   ],
   "source": [
    "#for loop + if condition in List Comprehensions\n",
    "[f'{i} is positive' if i>0 else f'{i} is not positive' for i in c]"
   ]
  },
  {
   "cell_type": "code",
   "execution_count": 21,
   "metadata": {},
   "outputs": [
    {
     "data": {
      "text/plain": [
       "['1 is positive',\n",
       " '2 is positive',\n",
       " '-1 is negative',\n",
       " '5 is positive',\n",
       " '10 is positive',\n",
       " '-100 is negative',\n",
       " '0 is 0']"
      ]
     },
     "execution_count": 21,
     "metadata": {},
     "output_type": "execute_result"
    }
   ],
   "source": [
    "#for loop + if condition in List Comprehensions\n",
    "[f'{i} is positive' if i>0 else f'{i} is negative' if i<0 else f'{i} is 0'  for i in c]"
   ]
  },
  {
   "cell_type": "markdown",
   "metadata": {},
   "source": [
    "# Multidimensional lists"
   ]
  },
  {
   "cell_type": "code",
   "execution_count": 22,
   "metadata": {},
   "outputs": [],
   "source": [
    "#[] inside [] should be used to create mult-dimensional lists\n",
    "list_mult=[[1, 2, 3, 4, 5],\n",
    "           ['a','b','c','d','e']]"
   ]
  },
  {
   "cell_type": "code",
   "execution_count": 23,
   "metadata": {},
   "outputs": [
    {
     "data": {
      "text/plain": [
       "['a', 'b', 'c', 'd', 'e']"
      ]
     },
     "execution_count": 23,
     "metadata": {},
     "output_type": "execute_result"
    }
   ],
   "source": [
    "#printing first list inside main list\n",
    "list_mult[1]"
   ]
  },
  {
   "cell_type": "code",
   "execution_count": 24,
   "metadata": {},
   "outputs": [
    {
     "data": {
      "text/plain": [
       "'a'"
      ]
     },
     "execution_count": 24,
     "metadata": {},
     "output_type": "execute_result"
    }
   ],
   "source": [
    "#printing first item inside the first list\n",
    "list_mult[1][0]"
   ]
  },
  {
   "cell_type": "code",
   "execution_count": 25,
   "metadata": {},
   "outputs": [],
   "source": [
    "#changin value of list item\n",
    "quote[0]='in'"
   ]
  },
  {
   "cell_type": "code",
   "execution_count": 26,
   "metadata": {},
   "outputs": [],
   "source": [
    "#changin value of list item in mult-dim list\n",
    "list_mult[1][2]='k'"
   ]
  },
  {
   "cell_type": "code",
   "execution_count": 27,
   "metadata": {},
   "outputs": [
    {
     "name": "stdout",
     "output_type": "stream",
     "text": [
      "['1', '2', '3', '4', '5']\n"
     ]
    }
   ],
   "source": [
    "#converting list items into strings\n",
    "list_mult[0]=[str(list_mult[0][i]) for i in range(len(list_mult[0]))]\n",
    "print(list_mult[0])"
   ]
  },
  {
   "cell_type": "code",
   "execution_count": 28,
   "metadata": {},
   "outputs": [
    {
     "name": "stdout",
     "output_type": "stream",
     "text": [
      "1+2+3+4+5\n"
     ]
    }
   ],
   "source": [
    "#joining strings inside list by + sign\n",
    "print('+'.join(list_mult[0]))"
   ]
  },
  {
   "cell_type": "markdown",
   "metadata": {},
   "source": [
    "# Installing and Importing Libraries"
   ]
  },
  {
   "cell_type": "markdown",
   "metadata": {},
   "source": [
    "- To install a package on machine, one must run the following command on the command prompt/terminal: pip install packagename1 pacakgename2 ... (or **!pip install packagename1 packagename2 inside Jupyter Notebook**).\n",
    "- A library is a collection of functions which we will use to do analysis. Libraries may contain not only functions but also data values (e.g., numerical constants).\n",
    "- Python's <a><a href=\"https://docs.python.org/3/library/\"> standard library </a> is installed with it. Many additional libraries are available from <a><a href=\"https://pypi.org/\"> PyPI (the Python Package Index)</a>.\n",
    "- Use <code>import</code> to load a library into a program's memory. Use <code>import...as...</code> to give a library a short alias while importing it. Then refer to items in the library using that shortened name <code>library_shortened_name.thing_name</code>. Python uses <b>\".\"</b> sign to mean \"part of\" something(e.g. library, DataFrame).\n",
    "    \n",
    "<b>!Note: Before starting your analysis, first import all the libraries you're going to use in your script.</b>\n",
    "\n",
    "# installing libraries\n",
    " <code>!pip install pandas</code> \n",
    "- Example in JN: <code>!pip install seaborn</code>\n",
    "- Example in command prompt: <code>pip install seaborn </code>"
   ]
  },
  {
   "cell_type": "code",
   "execution_count": 29,
   "metadata": {},
   "outputs": [],
   "source": [
    "#importing some libraries\n",
    "import seaborn as sns #visuals\n",
    "import numpy as np \n",
    "import pandas as pd #working w/ dataframes\n",
    "import matplotlib.pyplot as plt #visuals"
   ]
  },
  {
   "cell_type": "markdown",
   "metadata": {},
   "source": [
    "# Pandas - https://pandas.pydata.org/docs/user_guide/index.html"
   ]
  },
  {
   "cell_type": "markdown",
   "metadata": {},
   "source": [
    "## Creating dataframe"
   ]
  },
  {
   "cell_type": "code",
   "execution_count": 30,
   "metadata": {},
   "outputs": [],
   "source": [
    "#manually creating list about movie names and ratings\n",
    "movies=['The Shawshank Redemption (1994)','The Godfather (1972)','The Godfather: Part II (1974)']\n",
    "ratings=[9.2,9.1,9.0]"
   ]
  },
  {
   "cell_type": "code",
   "execution_count": 31,
   "metadata": {},
   "outputs": [
    {
     "data": {
      "text/plain": [
       "[('The Shawshank Redemption (1994)', 9.2),\n",
       " ('The Godfather (1972)', 9.1),\n",
       " ('The Godfather: Part II (1974)', 9.0)]"
      ]
     },
     "execution_count": 31,
     "metadata": {},
     "output_type": "execute_result"
    }
   ],
   "source": [
    "#pairing the values\n",
    "list(zip(movies,ratings))"
   ]
  },
  {
   "cell_type": "code",
   "execution_count": 32,
   "metadata": {},
   "outputs": [],
   "source": [
    "#creating dataframe by using lists - option 1\n",
    "movie_data=pd.DataFrame(list(zip(movies,ratings)),columns=['movie_name','ratings'])"
   ]
  },
  {
   "cell_type": "code",
   "execution_count": 33,
   "metadata": {},
   "outputs": [
    {
     "data": {
      "text/html": [
       "<div>\n",
       "<style scoped>\n",
       "    .dataframe tbody tr th:only-of-type {\n",
       "        vertical-align: middle;\n",
       "    }\n",
       "\n",
       "    .dataframe tbody tr th {\n",
       "        vertical-align: top;\n",
       "    }\n",
       "\n",
       "    .dataframe thead th {\n",
       "        text-align: right;\n",
       "    }\n",
       "</style>\n",
       "<table border=\"1\" class=\"dataframe\">\n",
       "  <thead>\n",
       "    <tr style=\"text-align: right;\">\n",
       "      <th></th>\n",
       "      <th>movie_name</th>\n",
       "      <th>ratings</th>\n",
       "    </tr>\n",
       "  </thead>\n",
       "  <tbody>\n",
       "    <tr>\n",
       "      <th>0</th>\n",
       "      <td>The Shawshank Redemption (1994)</td>\n",
       "      <td>9.2</td>\n",
       "    </tr>\n",
       "    <tr>\n",
       "      <th>1</th>\n",
       "      <td>The Godfather (1972)</td>\n",
       "      <td>9.1</td>\n",
       "    </tr>\n",
       "    <tr>\n",
       "      <th>2</th>\n",
       "      <td>The Godfather: Part II (1974)</td>\n",
       "      <td>9.0</td>\n",
       "    </tr>\n",
       "  </tbody>\n",
       "</table>\n",
       "</div>"
      ],
      "text/plain": [
       "                        movie_name  ratings\n",
       "0  The Shawshank Redemption (1994)      9.2\n",
       "1             The Godfather (1972)      9.1\n",
       "2    The Godfather: Part II (1974)      9.0"
      ]
     },
     "execution_count": 33,
     "metadata": {},
     "output_type": "execute_result"
    }
   ],
   "source": [
    "movie_data"
   ]
  },
  {
   "cell_type": "code",
   "execution_count": 34,
   "metadata": {},
   "outputs": [
    {
     "data": {
      "text/html": [
       "<div>\n",
       "<style scoped>\n",
       "    .dataframe tbody tr th:only-of-type {\n",
       "        vertical-align: middle;\n",
       "    }\n",
       "\n",
       "    .dataframe tbody tr th {\n",
       "        vertical-align: top;\n",
       "    }\n",
       "\n",
       "    .dataframe thead th {\n",
       "        text-align: right;\n",
       "    }\n",
       "</style>\n",
       "<table border=\"1\" class=\"dataframe\">\n",
       "  <thead>\n",
       "    <tr style=\"text-align: right;\">\n",
       "      <th></th>\n",
       "      <th>Movie_name</th>\n",
       "      <th>ratings</th>\n",
       "    </tr>\n",
       "  </thead>\n",
       "  <tbody>\n",
       "    <tr>\n",
       "      <th>0</th>\n",
       "      <td>The Shawshank Redemption (1994)</td>\n",
       "      <td>9.2</td>\n",
       "    </tr>\n",
       "    <tr>\n",
       "      <th>1</th>\n",
       "      <td>The Godfather (1972)</td>\n",
       "      <td>9.1</td>\n",
       "    </tr>\n",
       "    <tr>\n",
       "      <th>2</th>\n",
       "      <td>The Godfather: Part II (1974)</td>\n",
       "      <td>9.0</td>\n",
       "    </tr>\n",
       "  </tbody>\n",
       "</table>\n",
       "</div>"
      ],
      "text/plain": [
       "                        Movie_name  ratings\n",
       "0  The Shawshank Redemption (1994)      9.2\n",
       "1             The Godfather (1972)      9.1\n",
       "2    The Godfather: Part II (1974)      9.0"
      ]
     },
     "execution_count": 34,
     "metadata": {},
     "output_type": "execute_result"
    }
   ],
   "source": [
    "#creating dataframe by using lists and dictionaries - option 2\n",
    "movie_data2=pd.DataFrame({'Movie_name':movies, 'ratings':ratings})\n",
    "movie_data2"
   ]
  },
  {
   "cell_type": "markdown",
   "metadata": {},
   "source": [
    "## Reading data"
   ]
  },
  {
   "cell_type": "code",
   "execution_count": 35,
   "metadata": {},
   "outputs": [
    {
     "name": "stderr",
     "output_type": "stream",
     "text": [
      "C:\\Users\\psargsyan\\Anaconda3\\lib\\site-packages\\IPython\\core\\interactiveshell.py:3020: DtypeWarning: Columns (9) have mixed types. Specify dtype option on import or set low_memory=False.\n",
      "  interactivity=interactivity, compiler=compiler, result=result)\n"
     ]
    }
   ],
   "source": [
    "data_imdb=pd.read_csv('movies_metadata.csv')"
   ]
  },
  {
   "cell_type": "code",
   "execution_count": 36,
   "metadata": {},
   "outputs": [
    {
     "data": {
      "text/html": [
       "<div>\n",
       "<style scoped>\n",
       "    .dataframe tbody tr th:only-of-type {\n",
       "        vertical-align: middle;\n",
       "    }\n",
       "\n",
       "    .dataframe tbody tr th {\n",
       "        vertical-align: top;\n",
       "    }\n",
       "\n",
       "    .dataframe thead th {\n",
       "        text-align: right;\n",
       "    }\n",
       "</style>\n",
       "<table border=\"1\" class=\"dataframe\">\n",
       "  <thead>\n",
       "    <tr style=\"text-align: right;\">\n",
       "      <th></th>\n",
       "      <th>id</th>\n",
       "      <th>belongs_to_collection</th>\n",
       "      <th>budget</th>\n",
       "      <th>genres</th>\n",
       "      <th>homepage</th>\n",
       "      <th>imdb_id</th>\n",
       "      <th>original_language</th>\n",
       "      <th>original_title</th>\n",
       "      <th>overview</th>\n",
       "      <th>popularity</th>\n",
       "      <th>...</th>\n",
       "      <th>release_date</th>\n",
       "      <th>revenue</th>\n",
       "      <th>runtime</th>\n",
       "      <th>spoken_languages</th>\n",
       "      <th>status</th>\n",
       "      <th>tagline</th>\n",
       "      <th>title</th>\n",
       "      <th>video</th>\n",
       "      <th>vote_average</th>\n",
       "      <th>vote_count</th>\n",
       "    </tr>\n",
       "  </thead>\n",
       "  <tbody>\n",
       "    <tr>\n",
       "      <th>0</th>\n",
       "      <td>862</td>\n",
       "      <td>{'id': 10194, 'name': 'Toy Story Collection', ...</td>\n",
       "      <td>30000000</td>\n",
       "      <td>[{'id': 16, 'name': 'Animation'}, {'id': 35, '...</td>\n",
       "      <td>http://toystory.disney.com/toy-story</td>\n",
       "      <td>tt0114709</td>\n",
       "      <td>en</td>\n",
       "      <td>Toy Story</td>\n",
       "      <td>Led by Woody, Andy's toys live happily in his ...</td>\n",
       "      <td>21.9469</td>\n",
       "      <td>...</td>\n",
       "      <td>10/30/1995</td>\n",
       "      <td>373554033.0</td>\n",
       "      <td>81.0</td>\n",
       "      <td>[{'iso_639_1': 'en', 'name': 'English'}]</td>\n",
       "      <td>Released</td>\n",
       "      <td>NaN</td>\n",
       "      <td>Toy Story</td>\n",
       "      <td>False</td>\n",
       "      <td>7.7</td>\n",
       "      <td>5415.0</td>\n",
       "    </tr>\n",
       "    <tr>\n",
       "      <th>1</th>\n",
       "      <td>8844</td>\n",
       "      <td>NaN</td>\n",
       "      <td>65000000</td>\n",
       "      <td>[{'id': 12, 'name': 'Adventure'}, {'id': 14, '...</td>\n",
       "      <td>NaN</td>\n",
       "      <td>tt0113497</td>\n",
       "      <td>en</td>\n",
       "      <td>Jumanji</td>\n",
       "      <td>When siblings Judy and Peter discover an encha...</td>\n",
       "      <td>17.0155</td>\n",
       "      <td>...</td>\n",
       "      <td>12/15/1995</td>\n",
       "      <td>262797249.0</td>\n",
       "      <td>104.0</td>\n",
       "      <td>[{'iso_639_1': 'en', 'name': 'English'}, {'iso...</td>\n",
       "      <td>Released</td>\n",
       "      <td>Roll the dice and unleash the excitement!</td>\n",
       "      <td>Jumanji</td>\n",
       "      <td>False</td>\n",
       "      <td>6.9</td>\n",
       "      <td>2413.0</td>\n",
       "    </tr>\n",
       "    <tr>\n",
       "      <th>2</th>\n",
       "      <td>15602</td>\n",
       "      <td>{'id': 119050, 'name': 'Grumpy Old Men Collect...</td>\n",
       "      <td>0</td>\n",
       "      <td>[{'id': 10749, 'name': 'Romance'}, {'id': 35, ...</td>\n",
       "      <td>NaN</td>\n",
       "      <td>tt0113228</td>\n",
       "      <td>en</td>\n",
       "      <td>Grumpier Old Men</td>\n",
       "      <td>A family wedding reignites the ancient feud be...</td>\n",
       "      <td>11.7129</td>\n",
       "      <td>...</td>\n",
       "      <td>12/22/1995</td>\n",
       "      <td>0.0</td>\n",
       "      <td>101.0</td>\n",
       "      <td>[{'iso_639_1': 'en', 'name': 'English'}]</td>\n",
       "      <td>Released</td>\n",
       "      <td>Still Yelling. Still Fighting. Still Ready for...</td>\n",
       "      <td>Grumpier Old Men</td>\n",
       "      <td>False</td>\n",
       "      <td>6.5</td>\n",
       "      <td>92.0</td>\n",
       "    </tr>\n",
       "    <tr>\n",
       "      <th>3</th>\n",
       "      <td>31357</td>\n",
       "      <td>NaN</td>\n",
       "      <td>16000000</td>\n",
       "      <td>[{'id': 35, 'name': 'Comedy'}, {'id': 18, 'nam...</td>\n",
       "      <td>NaN</td>\n",
       "      <td>tt0114885</td>\n",
       "      <td>en</td>\n",
       "      <td>Waiting to Exhale</td>\n",
       "      <td>Cheated on, mistreated and stepped on, the wom...</td>\n",
       "      <td>3.85949</td>\n",
       "      <td>...</td>\n",
       "      <td>12/22/1995</td>\n",
       "      <td>81452156.0</td>\n",
       "      <td>127.0</td>\n",
       "      <td>[{'iso_639_1': 'en', 'name': 'English'}]</td>\n",
       "      <td>Released</td>\n",
       "      <td>Friends are the people who let you be yourself...</td>\n",
       "      <td>Waiting to Exhale</td>\n",
       "      <td>False</td>\n",
       "      <td>6.1</td>\n",
       "      <td>34.0</td>\n",
       "    </tr>\n",
       "    <tr>\n",
       "      <th>4</th>\n",
       "      <td>11862</td>\n",
       "      <td>{'id': 96871, 'name': 'Father of the Bride Col...</td>\n",
       "      <td>0</td>\n",
       "      <td>[{'id': 35, 'name': 'Comedy'}]</td>\n",
       "      <td>NaN</td>\n",
       "      <td>tt0113041</td>\n",
       "      <td>en</td>\n",
       "      <td>Father of the Bride Part II</td>\n",
       "      <td>Just when George Banks has recovered from his ...</td>\n",
       "      <td>8.38752</td>\n",
       "      <td>...</td>\n",
       "      <td>2/10/1995</td>\n",
       "      <td>76578911.0</td>\n",
       "      <td>106.0</td>\n",
       "      <td>[{'iso_639_1': 'en', 'name': 'English'}]</td>\n",
       "      <td>Released</td>\n",
       "      <td>Just When His World Is Back To Normal... He's ...</td>\n",
       "      <td>Father of the Bride Part II</td>\n",
       "      <td>False</td>\n",
       "      <td>5.7</td>\n",
       "      <td>173.0</td>\n",
       "    </tr>\n",
       "  </tbody>\n",
       "</table>\n",
       "<p>5 rows × 23 columns</p>\n",
       "</div>"
      ],
      "text/plain": [
       "      id                              belongs_to_collection    budget  \\\n",
       "0    862  {'id': 10194, 'name': 'Toy Story Collection', ...  30000000   \n",
       "1   8844                                                NaN  65000000   \n",
       "2  15602  {'id': 119050, 'name': 'Grumpy Old Men Collect...         0   \n",
       "3  31357                                                NaN  16000000   \n",
       "4  11862  {'id': 96871, 'name': 'Father of the Bride Col...         0   \n",
       "\n",
       "                                              genres  \\\n",
       "0  [{'id': 16, 'name': 'Animation'}, {'id': 35, '...   \n",
       "1  [{'id': 12, 'name': 'Adventure'}, {'id': 14, '...   \n",
       "2  [{'id': 10749, 'name': 'Romance'}, {'id': 35, ...   \n",
       "3  [{'id': 35, 'name': 'Comedy'}, {'id': 18, 'nam...   \n",
       "4                     [{'id': 35, 'name': 'Comedy'}]   \n",
       "\n",
       "                               homepage    imdb_id original_language  \\\n",
       "0  http://toystory.disney.com/toy-story  tt0114709                en   \n",
       "1                                   NaN  tt0113497                en   \n",
       "2                                   NaN  tt0113228                en   \n",
       "3                                   NaN  tt0114885                en   \n",
       "4                                   NaN  tt0113041                en   \n",
       "\n",
       "                original_title  \\\n",
       "0                    Toy Story   \n",
       "1                      Jumanji   \n",
       "2             Grumpier Old Men   \n",
       "3            Waiting to Exhale   \n",
       "4  Father of the Bride Part II   \n",
       "\n",
       "                                            overview popularity    ...      \\\n",
       "0  Led by Woody, Andy's toys live happily in his ...    21.9469    ...       \n",
       "1  When siblings Judy and Peter discover an encha...    17.0155    ...       \n",
       "2  A family wedding reignites the ancient feud be...    11.7129    ...       \n",
       "3  Cheated on, mistreated and stepped on, the wom...    3.85949    ...       \n",
       "4  Just when George Banks has recovered from his ...    8.38752    ...       \n",
       "\n",
       "  release_date      revenue runtime  \\\n",
       "0   10/30/1995  373554033.0    81.0   \n",
       "1   12/15/1995  262797249.0   104.0   \n",
       "2   12/22/1995          0.0   101.0   \n",
       "3   12/22/1995   81452156.0   127.0   \n",
       "4    2/10/1995   76578911.0   106.0   \n",
       "\n",
       "                                    spoken_languages    status  \\\n",
       "0           [{'iso_639_1': 'en', 'name': 'English'}]  Released   \n",
       "1  [{'iso_639_1': 'en', 'name': 'English'}, {'iso...  Released   \n",
       "2           [{'iso_639_1': 'en', 'name': 'English'}]  Released   \n",
       "3           [{'iso_639_1': 'en', 'name': 'English'}]  Released   \n",
       "4           [{'iso_639_1': 'en', 'name': 'English'}]  Released   \n",
       "\n",
       "                                             tagline  \\\n",
       "0                                                NaN   \n",
       "1          Roll the dice and unleash the excitement!   \n",
       "2  Still Yelling. Still Fighting. Still Ready for...   \n",
       "3  Friends are the people who let you be yourself...   \n",
       "4  Just When His World Is Back To Normal... He's ...   \n",
       "\n",
       "                         title  video vote_average vote_count  \n",
       "0                    Toy Story  False          7.7     5415.0  \n",
       "1                      Jumanji  False          6.9     2413.0  \n",
       "2             Grumpier Old Men  False          6.5       92.0  \n",
       "3            Waiting to Exhale  False          6.1       34.0  \n",
       "4  Father of the Bride Part II  False          5.7      173.0  \n",
       "\n",
       "[5 rows x 23 columns]"
      ]
     },
     "execution_count": 36,
     "metadata": {},
     "output_type": "execute_result"
    }
   ],
   "source": [
    "#first five rows of the data\n",
    "data_imdb.head(5)"
   ]
  },
  {
   "cell_type": "code",
   "execution_count": 37,
   "metadata": {},
   "outputs": [
    {
     "data": {
      "text/html": [
       "<div>\n",
       "<style scoped>\n",
       "    .dataframe tbody tr th:only-of-type {\n",
       "        vertical-align: middle;\n",
       "    }\n",
       "\n",
       "    .dataframe tbody tr th {\n",
       "        vertical-align: top;\n",
       "    }\n",
       "\n",
       "    .dataframe thead th {\n",
       "        text-align: right;\n",
       "    }\n",
       "</style>\n",
       "<table border=\"1\" class=\"dataframe\">\n",
       "  <thead>\n",
       "    <tr style=\"text-align: right;\">\n",
       "      <th></th>\n",
       "      <th>id</th>\n",
       "      <th>belongs_to_collection</th>\n",
       "      <th>budget</th>\n",
       "      <th>genres</th>\n",
       "      <th>homepage</th>\n",
       "      <th>imdb_id</th>\n",
       "      <th>original_language</th>\n",
       "      <th>original_title</th>\n",
       "      <th>overview</th>\n",
       "      <th>popularity</th>\n",
       "      <th>...</th>\n",
       "      <th>release_date</th>\n",
       "      <th>revenue</th>\n",
       "      <th>runtime</th>\n",
       "      <th>spoken_languages</th>\n",
       "      <th>status</th>\n",
       "      <th>tagline</th>\n",
       "      <th>title</th>\n",
       "      <th>video</th>\n",
       "      <th>vote_average</th>\n",
       "      <th>vote_count</th>\n",
       "    </tr>\n",
       "  </thead>\n",
       "  <tbody>\n",
       "    <tr>\n",
       "      <th>45463</th>\n",
       "      <td>67758</td>\n",
       "      <td>NaN</td>\n",
       "      <td>0</td>\n",
       "      <td>[{'id': 28, 'name': 'Action'}, {'id': 18, 'nam...</td>\n",
       "      <td>NaN</td>\n",
       "      <td>tt0303758</td>\n",
       "      <td>en</td>\n",
       "      <td>Betrayal</td>\n",
       "      <td>When one of her hits goes wrong, a professiona...</td>\n",
       "      <td>0.903007</td>\n",
       "      <td>...</td>\n",
       "      <td>8/1/2003</td>\n",
       "      <td>0.0</td>\n",
       "      <td>90.0</td>\n",
       "      <td>[{'iso_639_1': 'en', 'name': 'English'}]</td>\n",
       "      <td>Released</td>\n",
       "      <td>A deadly game of wits.</td>\n",
       "      <td>Betrayal</td>\n",
       "      <td>False</td>\n",
       "      <td>3.8</td>\n",
       "      <td>6.0</td>\n",
       "    </tr>\n",
       "    <tr>\n",
       "      <th>45464</th>\n",
       "      <td>227506</td>\n",
       "      <td>NaN</td>\n",
       "      <td>0</td>\n",
       "      <td>[]</td>\n",
       "      <td>NaN</td>\n",
       "      <td>tt0008536</td>\n",
       "      <td>en</td>\n",
       "      <td>Satana likuyushchiy</td>\n",
       "      <td>In a small town live two brothers, one a minis...</td>\n",
       "      <td>0.003503</td>\n",
       "      <td>...</td>\n",
       "      <td>10/21/1917</td>\n",
       "      <td>0.0</td>\n",
       "      <td>87.0</td>\n",
       "      <td>[]</td>\n",
       "      <td>Released</td>\n",
       "      <td>NaN</td>\n",
       "      <td>Satan Triumphant</td>\n",
       "      <td>False</td>\n",
       "      <td>0.0</td>\n",
       "      <td>0.0</td>\n",
       "    </tr>\n",
       "    <tr>\n",
       "      <th>45465</th>\n",
       "      <td>461257</td>\n",
       "      <td>NaN</td>\n",
       "      <td>0</td>\n",
       "      <td>[]</td>\n",
       "      <td>NaN</td>\n",
       "      <td>tt6980792</td>\n",
       "      <td>en</td>\n",
       "      <td>Queerama</td>\n",
       "      <td>50 years after decriminalisation of homosexual...</td>\n",
       "      <td>0.163015</td>\n",
       "      <td>...</td>\n",
       "      <td>6/9/2017</td>\n",
       "      <td>0.0</td>\n",
       "      <td>75.0</td>\n",
       "      <td>[{'iso_639_1': 'en', 'name': 'English'}]</td>\n",
       "      <td>Released</td>\n",
       "      <td>NaN</td>\n",
       "      <td>Queerama</td>\n",
       "      <td>False</td>\n",
       "      <td>0.0</td>\n",
       "      <td>0.0</td>\n",
       "    </tr>\n",
       "  </tbody>\n",
       "</table>\n",
       "<p>3 rows × 23 columns</p>\n",
       "</div>"
      ],
      "text/plain": [
       "           id belongs_to_collection budget  \\\n",
       "45463   67758                   NaN      0   \n",
       "45464  227506                   NaN      0   \n",
       "45465  461257                   NaN      0   \n",
       "\n",
       "                                                  genres homepage    imdb_id  \\\n",
       "45463  [{'id': 28, 'name': 'Action'}, {'id': 18, 'nam...      NaN  tt0303758   \n",
       "45464                                                 []      NaN  tt0008536   \n",
       "45465                                                 []      NaN  tt6980792   \n",
       "\n",
       "      original_language       original_title  \\\n",
       "45463                en             Betrayal   \n",
       "45464                en  Satana likuyushchiy   \n",
       "45465                en             Queerama   \n",
       "\n",
       "                                                overview popularity  \\\n",
       "45463  When one of her hits goes wrong, a professiona...   0.903007   \n",
       "45464  In a small town live two brothers, one a minis...   0.003503   \n",
       "45465  50 years after decriminalisation of homosexual...   0.163015   \n",
       "\n",
       "         ...     release_date revenue runtime  \\\n",
       "45463    ...         8/1/2003     0.0    90.0   \n",
       "45464    ...       10/21/1917     0.0    87.0   \n",
       "45465    ...         6/9/2017     0.0    75.0   \n",
       "\n",
       "                               spoken_languages    status  \\\n",
       "45463  [{'iso_639_1': 'en', 'name': 'English'}]  Released   \n",
       "45464                                        []  Released   \n",
       "45465  [{'iso_639_1': 'en', 'name': 'English'}]  Released   \n",
       "\n",
       "                      tagline             title  video vote_average vote_count  \n",
       "45463  A deadly game of wits.          Betrayal  False          3.8        6.0  \n",
       "45464                     NaN  Satan Triumphant  False          0.0        0.0  \n",
       "45465                     NaN          Queerama  False          0.0        0.0  \n",
       "\n",
       "[3 rows x 23 columns]"
      ]
     },
     "execution_count": 37,
     "metadata": {},
     "output_type": "execute_result"
    }
   ],
   "source": [
    "#last three rows of the data\n",
    "data_imdb.tail(3)"
   ]
  },
  {
   "cell_type": "code",
   "execution_count": 38,
   "metadata": {},
   "outputs": [
    {
     "data": {
      "text/plain": [
       "0                      Toy Story\n",
       "1                        Jumanji\n",
       "2               Grumpier Old Men\n",
       "3              Waiting to Exhale\n",
       "4    Father of the Bride Part II\n",
       "Name: title, dtype: object"
      ]
     },
     "execution_count": 38,
     "metadata": {},
     "output_type": "execute_result"
    }
   ],
   "source": [
    "#returning headfor only one column - option 1\n",
    "data_imdb['title'].head()"
   ]
  },
  {
   "cell_type": "code",
   "execution_count": 39,
   "metadata": {},
   "outputs": [
    {
     "data": {
      "text/plain": [
       "0           Toy Story\n",
       "1             Jumanji\n",
       "2    Grumpier Old Men\n",
       "Name: title, dtype: object"
      ]
     },
     "execution_count": 39,
     "metadata": {},
     "output_type": "execute_result"
    }
   ],
   "source": [
    "#returning headfor only one column - option 2\n",
    "data_imdb.title.head(3)"
   ]
  },
  {
   "cell_type": "code",
   "execution_count": 40,
   "metadata": {},
   "outputs": [
    {
     "data": {
      "text/plain": [
       "0    Toy Story\n",
       "1      Jumanji\n",
       "Name: title, dtype: object"
      ]
     },
     "execution_count": 40,
     "metadata": {},
     "output_type": "execute_result"
    }
   ],
   "source": [
    "data_imdb['title'][0:2]"
   ]
  },
  {
   "cell_type": "markdown",
   "metadata": {},
   "source": [
    "# loc and iloc"
   ]
  },
  {
   "cell_type": "markdown",
   "metadata": {},
   "source": [
    "- **Loc** - filters rows by index and selects columns by label\n",
    "- **iloc** - filters rows by index and selects columns by integer position (from here **i**loc)"
   ]
  },
  {
   "cell_type": "code",
   "execution_count": 41,
   "metadata": {},
   "outputs": [
    {
     "data": {
      "text/html": [
       "<div>\n",
       "<style scoped>\n",
       "    .dataframe tbody tr th:only-of-type {\n",
       "        vertical-align: middle;\n",
       "    }\n",
       "\n",
       "    .dataframe tbody tr th {\n",
       "        vertical-align: top;\n",
       "    }\n",
       "\n",
       "    .dataframe thead th {\n",
       "        text-align: right;\n",
       "    }\n",
       "</style>\n",
       "<table border=\"1\" class=\"dataframe\">\n",
       "  <thead>\n",
       "    <tr style=\"text-align: right;\">\n",
       "      <th></th>\n",
       "      <th>budget</th>\n",
       "      <th>genres</th>\n",
       "      <th>homepage</th>\n",
       "      <th>imdb_id</th>\n",
       "      <th>original_language</th>\n",
       "      <th>original_title</th>\n",
       "    </tr>\n",
       "  </thead>\n",
       "  <tbody>\n",
       "    <tr>\n",
       "      <th>0</th>\n",
       "      <td>30000000</td>\n",
       "      <td>[{'id': 16, 'name': 'Animation'}, {'id': 35, '...</td>\n",
       "      <td>http://toystory.disney.com/toy-story</td>\n",
       "      <td>tt0114709</td>\n",
       "      <td>en</td>\n",
       "      <td>Toy Story</td>\n",
       "    </tr>\n",
       "    <tr>\n",
       "      <th>1</th>\n",
       "      <td>65000000</td>\n",
       "      <td>[{'id': 12, 'name': 'Adventure'}, {'id': 14, '...</td>\n",
       "      <td>NaN</td>\n",
       "      <td>tt0113497</td>\n",
       "      <td>en</td>\n",
       "      <td>Jumanji</td>\n",
       "    </tr>\n",
       "    <tr>\n",
       "      <th>2</th>\n",
       "      <td>0</td>\n",
       "      <td>[{'id': 10749, 'name': 'Romance'}, {'id': 35, ...</td>\n",
       "      <td>NaN</td>\n",
       "      <td>tt0113228</td>\n",
       "      <td>en</td>\n",
       "      <td>Grumpier Old Men</td>\n",
       "    </tr>\n",
       "    <tr>\n",
       "      <th>3</th>\n",
       "      <td>16000000</td>\n",
       "      <td>[{'id': 35, 'name': 'Comedy'}, {'id': 18, 'nam...</td>\n",
       "      <td>NaN</td>\n",
       "      <td>tt0114885</td>\n",
       "      <td>en</td>\n",
       "      <td>Waiting to Exhale</td>\n",
       "    </tr>\n",
       "    <tr>\n",
       "      <th>4</th>\n",
       "      <td>0</td>\n",
       "      <td>[{'id': 35, 'name': 'Comedy'}]</td>\n",
       "      <td>NaN</td>\n",
       "      <td>tt0113041</td>\n",
       "      <td>en</td>\n",
       "      <td>Father of the Bride Part II</td>\n",
       "    </tr>\n",
       "    <tr>\n",
       "      <th>5</th>\n",
       "      <td>60000000</td>\n",
       "      <td>[{'id': 28, 'name': 'Action'}, {'id': 80, 'nam...</td>\n",
       "      <td>NaN</td>\n",
       "      <td>tt0113277</td>\n",
       "      <td>en</td>\n",
       "      <td>Heat</td>\n",
       "    </tr>\n",
       "    <tr>\n",
       "      <th>6</th>\n",
       "      <td>58000000</td>\n",
       "      <td>[{'id': 35, 'name': 'Comedy'}, {'id': 10749, '...</td>\n",
       "      <td>NaN</td>\n",
       "      <td>tt0114319</td>\n",
       "      <td>en</td>\n",
       "      <td>Sabrina</td>\n",
       "    </tr>\n",
       "    <tr>\n",
       "      <th>7</th>\n",
       "      <td>0</td>\n",
       "      <td>[{'id': 28, 'name': 'Action'}, {'id': 12, 'nam...</td>\n",
       "      <td>NaN</td>\n",
       "      <td>tt0112302</td>\n",
       "      <td>en</td>\n",
       "      <td>Tom and Huck</td>\n",
       "    </tr>\n",
       "    <tr>\n",
       "      <th>8</th>\n",
       "      <td>35000000</td>\n",
       "      <td>[{'id': 28, 'name': 'Action'}, {'id': 12, 'nam...</td>\n",
       "      <td>NaN</td>\n",
       "      <td>tt0114576</td>\n",
       "      <td>en</td>\n",
       "      <td>Sudden Death</td>\n",
       "    </tr>\n",
       "    <tr>\n",
       "      <th>9</th>\n",
       "      <td>58000000</td>\n",
       "      <td>[{'id': 12, 'name': 'Adventure'}, {'id': 28, '...</td>\n",
       "      <td>http://www.mgm.com/view/movie/757/Goldeneye/</td>\n",
       "      <td>tt0113189</td>\n",
       "      <td>en</td>\n",
       "      <td>GoldenEye</td>\n",
       "    </tr>\n",
       "    <tr>\n",
       "      <th>10</th>\n",
       "      <td>62000000</td>\n",
       "      <td>[{'id': 35, 'name': 'Comedy'}, {'id': 18, 'nam...</td>\n",
       "      <td>NaN</td>\n",
       "      <td>tt0112346</td>\n",
       "      <td>en</td>\n",
       "      <td>The American President</td>\n",
       "    </tr>\n",
       "    <tr>\n",
       "      <th>11</th>\n",
       "      <td>0</td>\n",
       "      <td>[{'id': 35, 'name': 'Comedy'}, {'id': 27, 'nam...</td>\n",
       "      <td>NaN</td>\n",
       "      <td>tt0112896</td>\n",
       "      <td>en</td>\n",
       "      <td>Dracula: Dead and Loving It</td>\n",
       "    </tr>\n",
       "    <tr>\n",
       "      <th>12</th>\n",
       "      <td>0</td>\n",
       "      <td>[{'id': 10751, 'name': 'Family'}, {'id': 16, '...</td>\n",
       "      <td>NaN</td>\n",
       "      <td>tt0112453</td>\n",
       "      <td>en</td>\n",
       "      <td>Balto</td>\n",
       "    </tr>\n",
       "  </tbody>\n",
       "</table>\n",
       "</div>"
      ],
      "text/plain": [
       "      budget                                             genres  \\\n",
       "0   30000000  [{'id': 16, 'name': 'Animation'}, {'id': 35, '...   \n",
       "1   65000000  [{'id': 12, 'name': 'Adventure'}, {'id': 14, '...   \n",
       "2          0  [{'id': 10749, 'name': 'Romance'}, {'id': 35, ...   \n",
       "3   16000000  [{'id': 35, 'name': 'Comedy'}, {'id': 18, 'nam...   \n",
       "4          0                     [{'id': 35, 'name': 'Comedy'}]   \n",
       "5   60000000  [{'id': 28, 'name': 'Action'}, {'id': 80, 'nam...   \n",
       "6   58000000  [{'id': 35, 'name': 'Comedy'}, {'id': 10749, '...   \n",
       "7          0  [{'id': 28, 'name': 'Action'}, {'id': 12, 'nam...   \n",
       "8   35000000  [{'id': 28, 'name': 'Action'}, {'id': 12, 'nam...   \n",
       "9   58000000  [{'id': 12, 'name': 'Adventure'}, {'id': 28, '...   \n",
       "10  62000000  [{'id': 35, 'name': 'Comedy'}, {'id': 18, 'nam...   \n",
       "11         0  [{'id': 35, 'name': 'Comedy'}, {'id': 27, 'nam...   \n",
       "12         0  [{'id': 10751, 'name': 'Family'}, {'id': 16, '...   \n",
       "\n",
       "                                        homepage    imdb_id original_language  \\\n",
       "0           http://toystory.disney.com/toy-story  tt0114709                en   \n",
       "1                                            NaN  tt0113497                en   \n",
       "2                                            NaN  tt0113228                en   \n",
       "3                                            NaN  tt0114885                en   \n",
       "4                                            NaN  tt0113041                en   \n",
       "5                                            NaN  tt0113277                en   \n",
       "6                                            NaN  tt0114319                en   \n",
       "7                                            NaN  tt0112302                en   \n",
       "8                                            NaN  tt0114576                en   \n",
       "9   http://www.mgm.com/view/movie/757/Goldeneye/  tt0113189                en   \n",
       "10                                           NaN  tt0112346                en   \n",
       "11                                           NaN  tt0112896                en   \n",
       "12                                           NaN  tt0112453                en   \n",
       "\n",
       "                 original_title  \n",
       "0                     Toy Story  \n",
       "1                       Jumanji  \n",
       "2              Grumpier Old Men  \n",
       "3             Waiting to Exhale  \n",
       "4   Father of the Bride Part II  \n",
       "5                          Heat  \n",
       "6                       Sabrina  \n",
       "7                  Tom and Huck  \n",
       "8                  Sudden Death  \n",
       "9                     GoldenEye  \n",
       "10       The American President  \n",
       "11  Dracula: Dead and Loving It  \n",
       "12                        Balto  "
      ]
     },
     "execution_count": 41,
     "metadata": {},
     "output_type": "execute_result"
    }
   ],
   "source": [
    "data_imdb.loc[0:12,'budget':'original_title']"
   ]
  },
  {
   "cell_type": "code",
   "execution_count": 42,
   "metadata": {},
   "outputs": [
    {
     "data": {
      "text/html": [
       "<div>\n",
       "<style scoped>\n",
       "    .dataframe tbody tr th:only-of-type {\n",
       "        vertical-align: middle;\n",
       "    }\n",
       "\n",
       "    .dataframe tbody tr th {\n",
       "        vertical-align: top;\n",
       "    }\n",
       "\n",
       "    .dataframe thead th {\n",
       "        text-align: right;\n",
       "    }\n",
       "</style>\n",
       "<table border=\"1\" class=\"dataframe\">\n",
       "  <thead>\n",
       "    <tr style=\"text-align: right;\">\n",
       "      <th></th>\n",
       "      <th>id</th>\n",
       "      <th>imdb_id</th>\n",
       "    </tr>\n",
       "  </thead>\n",
       "  <tbody>\n",
       "    <tr>\n",
       "      <th>0</th>\n",
       "      <td>862</td>\n",
       "      <td>tt0114709</td>\n",
       "    </tr>\n",
       "    <tr>\n",
       "      <th>1</th>\n",
       "      <td>8844</td>\n",
       "      <td>tt0113497</td>\n",
       "    </tr>\n",
       "  </tbody>\n",
       "</table>\n",
       "</div>"
      ],
      "text/plain": [
       "     id    imdb_id\n",
       "0   862  tt0114709\n",
       "1  8844  tt0113497"
      ]
     },
     "execution_count": 42,
     "metadata": {},
     "output_type": "execute_result"
    }
   ],
   "source": [
    "data_imdb.iloc[0:2,[0,5]]"
   ]
  },
  {
   "cell_type": "code",
   "execution_count": 43,
   "metadata": {},
   "outputs": [
    {
     "name": "stdout",
     "output_type": "stream",
     "text": [
      "<class 'pandas.core.frame.DataFrame'>\n",
      "RangeIndex: 45466 entries, 0 to 45465\n",
      "Data columns (total 23 columns):\n",
      "id                       45466 non-null object\n",
      "belongs_to_collection    4494 non-null object\n",
      "budget                   45466 non-null object\n",
      "genres                   45466 non-null object\n",
      "homepage                 7782 non-null object\n",
      "imdb_id                  45449 non-null object\n",
      "original_language        45455 non-null object\n",
      "original_title           45466 non-null object\n",
      "overview                 44512 non-null object\n",
      "popularity               45461 non-null object\n",
      "poster_path              45080 non-null object\n",
      "production_companies     45463 non-null object\n",
      "production_countries     45463 non-null object\n",
      "release_date             45379 non-null object\n",
      "revenue                  45460 non-null float64\n",
      "runtime                  45203 non-null float64\n",
      "spoken_languages         45460 non-null object\n",
      "status                   45379 non-null object\n",
      "tagline                  20412 non-null object\n",
      "title                    45460 non-null object\n",
      "video                    45460 non-null object\n",
      "vote_average             45460 non-null float64\n",
      "vote_count               45460 non-null float64\n",
      "dtypes: float64(4), object(19)\n",
      "memory usage: 8.0+ MB\n"
     ]
    }
   ],
   "source": [
    "data_imdb.info()"
   ]
  },
  {
   "cell_type": "code",
   "execution_count": 44,
   "metadata": {},
   "outputs": [
    {
     "data": {
      "text/plain": [
       "Index(['id', 'belongs_to_collection', 'budget', 'genres', 'homepage',\n",
       "       'imdb_id', 'original_language', 'original_title', 'overview',\n",
       "       'popularity', 'poster_path', 'production_companies',\n",
       "       'production_countries', 'release_date', 'revenue', 'runtime',\n",
       "       'spoken_languages', 'status', 'tagline', 'title', 'video',\n",
       "       'vote_average', 'vote_count'],\n",
       "      dtype='object')"
      ]
     },
     "execution_count": 44,
     "metadata": {},
     "output_type": "execute_result"
    }
   ],
   "source": [
    "data_imdb.columns"
   ]
  },
  {
   "cell_type": "code",
   "execution_count": 45,
   "metadata": {},
   "outputs": [
    {
     "data": {
      "text/plain": [
       "(45466, 23)"
      ]
     },
     "execution_count": 45,
     "metadata": {},
     "output_type": "execute_result"
    }
   ],
   "source": [
    "data_imdb.shape"
   ]
  },
  {
   "cell_type": "code",
   "execution_count": 46,
   "metadata": {},
   "outputs": [
    {
     "name": "stdout",
     "output_type": "stream",
     "text": [
      "2787965087.0\n",
      "0.0\n"
     ]
    }
   ],
   "source": [
    "#applying some function on pandas dataframe series\n",
    "print(data_imdb.revenue.max())\n",
    "print(data_imdb.revenue.min())"
   ]
  },
  {
   "cell_type": "code",
   "execution_count": 47,
   "metadata": {},
   "outputs": [
    {
     "data": {
      "text/plain": [
       "14551    Avatar\n",
       "Name: title, dtype: object"
      ]
     },
     "execution_count": 47,
     "metadata": {},
     "output_type": "execute_result"
    }
   ],
   "source": [
    "#three way of returning movie title that has the highest revenue\n",
    "data_imdb[data_imdb['revenue']==2787965087.0]['title']\n",
    "data_imdb[data_imdb['revenue']==2787965087.0].title\n",
    "data_imdb.loc[data_imdb['revenue']==2787965087.0,'title']"
   ]
  },
  {
   "cell_type": "code",
   "execution_count": 48,
   "metadata": {},
   "outputs": [
    {
     "name": "stdout",
     "output_type": "stream",
     "text": [
      "11209348.539265288\n",
      "64332246.740631126\n",
      "0.0\n"
     ]
    }
   ],
   "source": [
    "#let's print mean,std,median of revenue column\n",
    "print(data_imdb.revenue.mean())\n",
    "print(data_imdb.revenue.std())\n",
    "print(data_imdb.revenue.median())"
   ]
  },
  {
   "cell_type": "code",
   "execution_count": 49,
   "metadata": {},
   "outputs": [
    {
     "data": {
      "text/html": [
       "<div>\n",
       "<style scoped>\n",
       "    .dataframe tbody tr th:only-of-type {\n",
       "        vertical-align: middle;\n",
       "    }\n",
       "\n",
       "    .dataframe tbody tr th {\n",
       "        vertical-align: top;\n",
       "    }\n",
       "\n",
       "    .dataframe thead th {\n",
       "        text-align: right;\n",
       "    }\n",
       "</style>\n",
       "<table border=\"1\" class=\"dataframe\">\n",
       "  <thead>\n",
       "    <tr style=\"text-align: right;\">\n",
       "      <th></th>\n",
       "      <th>revenue</th>\n",
       "      <th>runtime</th>\n",
       "      <th>vote_average</th>\n",
       "      <th>vote_count</th>\n",
       "    </tr>\n",
       "  </thead>\n",
       "  <tbody>\n",
       "    <tr>\n",
       "      <th>count</th>\n",
       "      <td>4.546000e+04</td>\n",
       "      <td>45203.000000</td>\n",
       "      <td>45460.000000</td>\n",
       "      <td>45460.000000</td>\n",
       "    </tr>\n",
       "    <tr>\n",
       "      <th>mean</th>\n",
       "      <td>1.120935e+07</td>\n",
       "      <td>94.128199</td>\n",
       "      <td>5.618207</td>\n",
       "      <td>109.897338</td>\n",
       "    </tr>\n",
       "    <tr>\n",
       "      <th>std</th>\n",
       "      <td>6.433225e+07</td>\n",
       "      <td>38.407810</td>\n",
       "      <td>1.924216</td>\n",
       "      <td>491.310374</td>\n",
       "    </tr>\n",
       "    <tr>\n",
       "      <th>min</th>\n",
       "      <td>0.000000e+00</td>\n",
       "      <td>0.000000</td>\n",
       "      <td>0.000000</td>\n",
       "      <td>0.000000</td>\n",
       "    </tr>\n",
       "    <tr>\n",
       "      <th>25%</th>\n",
       "      <td>0.000000e+00</td>\n",
       "      <td>85.000000</td>\n",
       "      <td>5.000000</td>\n",
       "      <td>3.000000</td>\n",
       "    </tr>\n",
       "    <tr>\n",
       "      <th>50%</th>\n",
       "      <td>0.000000e+00</td>\n",
       "      <td>95.000000</td>\n",
       "      <td>6.000000</td>\n",
       "      <td>10.000000</td>\n",
       "    </tr>\n",
       "    <tr>\n",
       "      <th>75%</th>\n",
       "      <td>0.000000e+00</td>\n",
       "      <td>107.000000</td>\n",
       "      <td>6.800000</td>\n",
       "      <td>34.000000</td>\n",
       "    </tr>\n",
       "    <tr>\n",
       "      <th>max</th>\n",
       "      <td>2.787965e+09</td>\n",
       "      <td>1256.000000</td>\n",
       "      <td>10.000000</td>\n",
       "      <td>14075.000000</td>\n",
       "    </tr>\n",
       "  </tbody>\n",
       "</table>\n",
       "</div>"
      ],
      "text/plain": [
       "            revenue       runtime  vote_average    vote_count\n",
       "count  4.546000e+04  45203.000000  45460.000000  45460.000000\n",
       "mean   1.120935e+07     94.128199      5.618207    109.897338\n",
       "std    6.433225e+07     38.407810      1.924216    491.310374\n",
       "min    0.000000e+00      0.000000      0.000000      0.000000\n",
       "25%    0.000000e+00     85.000000      5.000000      3.000000\n",
       "50%    0.000000e+00     95.000000      6.000000     10.000000\n",
       "75%    0.000000e+00    107.000000      6.800000     34.000000\n",
       "max    2.787965e+09   1256.000000     10.000000  14075.000000"
      ]
     },
     "execution_count": 49,
     "metadata": {},
     "output_type": "execute_result"
    }
   ],
   "source": [
    "#descriptive stat for numeric variables\n",
    "data_imdb.describe()"
   ]
  },
  {
   "cell_type": "code",
   "execution_count": 50,
   "metadata": {},
   "outputs": [
    {
     "data": {
      "text/plain": [
       "count    4.546000e+04\n",
       "mean     1.120935e+07\n",
       "std      6.433225e+07\n",
       "min      0.000000e+00\n",
       "25%      0.000000e+00\n",
       "50%      0.000000e+00\n",
       "75%      0.000000e+00\n",
       "max      2.787965e+09\n",
       "Name: revenue, dtype: float64"
      ]
     },
     "execution_count": 50,
     "metadata": {},
     "output_type": "execute_result"
    }
   ],
   "source": [
    "#descriptive stat for only one variable\n",
    "data_imdb.revenue.describe()"
   ]
  },
  {
   "cell_type": "code",
   "execution_count": 51,
   "metadata": {},
   "outputs": [
    {
     "data": {
      "text/html": [
       "<div>\n",
       "<style scoped>\n",
       "    .dataframe tbody tr th:only-of-type {\n",
       "        vertical-align: middle;\n",
       "    }\n",
       "\n",
       "    .dataframe tbody tr th {\n",
       "        vertical-align: top;\n",
       "    }\n",
       "\n",
       "    .dataframe thead th {\n",
       "        text-align: right;\n",
       "    }\n",
       "</style>\n",
       "<table border=\"1\" class=\"dataframe\">\n",
       "  <thead>\n",
       "    <tr style=\"text-align: right;\">\n",
       "      <th></th>\n",
       "      <th>revenue</th>\n",
       "      <th>runtime</th>\n",
       "      <th>vote_average</th>\n",
       "      <th>vote_count</th>\n",
       "    </tr>\n",
       "  </thead>\n",
       "  <tbody>\n",
       "    <tr>\n",
       "      <th>revenue</th>\n",
       "      <td>1.000000</td>\n",
       "      <td>0.103917</td>\n",
       "      <td>0.083868</td>\n",
       "      <td>0.812022</td>\n",
       "    </tr>\n",
       "    <tr>\n",
       "      <th>runtime</th>\n",
       "      <td>0.103917</td>\n",
       "      <td>1.000000</td>\n",
       "      <td>0.158146</td>\n",
       "      <td>0.113539</td>\n",
       "    </tr>\n",
       "    <tr>\n",
       "      <th>vote_average</th>\n",
       "      <td>0.083868</td>\n",
       "      <td>0.158146</td>\n",
       "      <td>1.000000</td>\n",
       "      <td>0.123607</td>\n",
       "    </tr>\n",
       "    <tr>\n",
       "      <th>vote_count</th>\n",
       "      <td>0.812022</td>\n",
       "      <td>0.113539</td>\n",
       "      <td>0.123607</td>\n",
       "      <td>1.000000</td>\n",
       "    </tr>\n",
       "  </tbody>\n",
       "</table>\n",
       "</div>"
      ],
      "text/plain": [
       "               revenue   runtime  vote_average  vote_count\n",
       "revenue       1.000000  0.103917      0.083868    0.812022\n",
       "runtime       0.103917  1.000000      0.158146    0.113539\n",
       "vote_average  0.083868  0.158146      1.000000    0.123607\n",
       "vote_count    0.812022  0.113539      0.123607    1.000000"
      ]
     },
     "execution_count": 51,
     "metadata": {},
     "output_type": "execute_result"
    }
   ],
   "source": [
    "#correlation between numeric variables\n",
    "data_imdb.corr()"
   ]
  },
  {
   "cell_type": "code",
   "execution_count": 52,
   "metadata": {},
   "outputs": [
    {
     "data": {
      "text/plain": [
       "status\n",
       "Canceled           5.100000\n",
       "In Production      4.675000\n",
       "Planned            5.666667\n",
       "Post Production    5.144898\n",
       "Released           5.623682\n",
       "Rumored            5.392609\n",
       "Name: vote_average, dtype: float64"
      ]
     },
     "execution_count": 52,
     "metadata": {},
     "output_type": "execute_result"
    }
   ],
   "source": [
    "#grouping data by object type variables\n",
    "data_imdb.groupby(['status'])['vote_average'].mean()"
   ]
  },
  {
   "cell_type": "code",
   "execution_count": 53,
   "metadata": {},
   "outputs": [
    {
     "data": {
      "text/plain": [
       "45466"
      ]
     },
     "execution_count": 53,
     "metadata": {},
     "output_type": "execute_result"
    }
   ],
   "source": [
    "len(data_imdb.budget)"
   ]
  },
  {
   "cell_type": "code",
   "execution_count": 54,
   "metadata": {},
   "outputs": [
    {
     "data": {
      "text/plain": [
       "id                           0\n",
       "belongs_to_collection    40972\n",
       "budget                       0\n",
       "genres                       0\n",
       "homepage                 37684\n",
       "imdb_id                     17\n",
       "original_language           11\n",
       "original_title               0\n",
       "overview                   954\n",
       "popularity                   5\n",
       "poster_path                386\n",
       "production_companies         3\n",
       "production_countries         3\n",
       "release_date                87\n",
       "revenue                      6\n",
       "runtime                    263\n",
       "spoken_languages             6\n",
       "status                      87\n",
       "tagline                  25054\n",
       "title                        6\n",
       "video                        6\n",
       "vote_average                 6\n",
       "vote_count                   6\n",
       "dtype: int64"
      ]
     },
     "execution_count": 54,
     "metadata": {},
     "output_type": "execute_result"
    }
   ],
   "source": [
    "#checking for na/null values\n",
    "data_imdb.isna().sum()"
   ]
  },
  {
   "cell_type": "code",
   "execution_count": 55,
   "metadata": {},
   "outputs": [],
   "source": [
    "#dropping columns from dataframe\n",
    "data_clean=data_imdb.drop(['belongs_to_collection','homepage'],axis=1)"
   ]
  },
  {
   "cell_type": "code",
   "execution_count": 56,
   "metadata": {},
   "outputs": [
    {
     "data": {
      "text/plain": [
       "Index(['id', 'budget', 'genres', 'imdb_id', 'original_language',\n",
       "       'original_title', 'overview', 'popularity', 'poster_path',\n",
       "       'production_companies', 'production_countries', 'release_date',\n",
       "       'revenue', 'runtime', 'spoken_languages', 'status', 'tagline', 'title',\n",
       "       'video', 'vote_average', 'vote_count'],\n",
       "      dtype='object')"
      ]
     },
     "execution_count": 56,
     "metadata": {},
     "output_type": "execute_result"
    }
   ],
   "source": [
    "data_clean.columns"
   ]
  },
  {
   "cell_type": "code",
   "execution_count": 57,
   "metadata": {},
   "outputs": [
    {
     "data": {
      "text/html": [
       "<div>\n",
       "<style scoped>\n",
       "    .dataframe tbody tr th:only-of-type {\n",
       "        vertical-align: middle;\n",
       "    }\n",
       "\n",
       "    .dataframe tbody tr th {\n",
       "        vertical-align: top;\n",
       "    }\n",
       "\n",
       "    .dataframe thead th {\n",
       "        text-align: right;\n",
       "    }\n",
       "</style>\n",
       "<table border=\"1\" class=\"dataframe\">\n",
       "  <thead>\n",
       "    <tr style=\"text-align: right;\">\n",
       "      <th></th>\n",
       "      <th>id</th>\n",
       "      <th>budget</th>\n",
       "      <th>genres</th>\n",
       "      <th>imdb_id</th>\n",
       "      <th>original_language</th>\n",
       "      <th>original_title</th>\n",
       "      <th>overview</th>\n",
       "      <th>popularity</th>\n",
       "      <th>poster_path</th>\n",
       "      <th>production_companies</th>\n",
       "      <th>...</th>\n",
       "      <th>release_date</th>\n",
       "      <th>revenue</th>\n",
       "      <th>runtime</th>\n",
       "      <th>spoken_languages</th>\n",
       "      <th>status</th>\n",
       "      <th>tagline</th>\n",
       "      <th>title</th>\n",
       "      <th>video</th>\n",
       "      <th>vote_average</th>\n",
       "      <th>vote_count</th>\n",
       "    </tr>\n",
       "  </thead>\n",
       "  <tbody>\n",
       "    <tr>\n",
       "      <th>1</th>\n",
       "      <td>8844</td>\n",
       "      <td>65000000</td>\n",
       "      <td>[{'id': 12, 'name': 'Adventure'}, {'id': 14, '...</td>\n",
       "      <td>tt0113497</td>\n",
       "      <td>en</td>\n",
       "      <td>Jumanji</td>\n",
       "      <td>When siblings Judy and Peter discover an encha...</td>\n",
       "      <td>17.0155</td>\n",
       "      <td>/vzmL6fP7aPKNKPRTFnZmiUfciyV.jpg</td>\n",
       "      <td>[{'name': 'TriStar Pictures', 'id': 559}, {'na...</td>\n",
       "      <td>...</td>\n",
       "      <td>12/15/1995</td>\n",
       "      <td>262797249.0</td>\n",
       "      <td>104.0</td>\n",
       "      <td>[{'iso_639_1': 'en', 'name': 'English'}, {'iso...</td>\n",
       "      <td>Released</td>\n",
       "      <td>Roll the dice and unleash the excitement!</td>\n",
       "      <td>Jumanji</td>\n",
       "      <td>False</td>\n",
       "      <td>6.9</td>\n",
       "      <td>2413.0</td>\n",
       "    </tr>\n",
       "    <tr>\n",
       "      <th>2</th>\n",
       "      <td>15602</td>\n",
       "      <td>0</td>\n",
       "      <td>[{'id': 10749, 'name': 'Romance'}, {'id': 35, ...</td>\n",
       "      <td>tt0113228</td>\n",
       "      <td>en</td>\n",
       "      <td>Grumpier Old Men</td>\n",
       "      <td>A family wedding reignites the ancient feud be...</td>\n",
       "      <td>11.7129</td>\n",
       "      <td>/6ksm1sjKMFLbO7UY2i6G1ju9SML.jpg</td>\n",
       "      <td>[{'name': 'Warner Bros.', 'id': 6194}, {'name'...</td>\n",
       "      <td>...</td>\n",
       "      <td>12/22/1995</td>\n",
       "      <td>0.0</td>\n",
       "      <td>101.0</td>\n",
       "      <td>[{'iso_639_1': 'en', 'name': 'English'}]</td>\n",
       "      <td>Released</td>\n",
       "      <td>Still Yelling. Still Fighting. Still Ready for...</td>\n",
       "      <td>Grumpier Old Men</td>\n",
       "      <td>False</td>\n",
       "      <td>6.5</td>\n",
       "      <td>92.0</td>\n",
       "    </tr>\n",
       "    <tr>\n",
       "      <th>3</th>\n",
       "      <td>31357</td>\n",
       "      <td>16000000</td>\n",
       "      <td>[{'id': 35, 'name': 'Comedy'}, {'id': 18, 'nam...</td>\n",
       "      <td>tt0114885</td>\n",
       "      <td>en</td>\n",
       "      <td>Waiting to Exhale</td>\n",
       "      <td>Cheated on, mistreated and stepped on, the wom...</td>\n",
       "      <td>3.85949</td>\n",
       "      <td>/16XOMpEaLWkrcPqSQqhTmeJuqQl.jpg</td>\n",
       "      <td>[{'name': 'Twentieth Century Fox Film Corporat...</td>\n",
       "      <td>...</td>\n",
       "      <td>12/22/1995</td>\n",
       "      <td>81452156.0</td>\n",
       "      <td>127.0</td>\n",
       "      <td>[{'iso_639_1': 'en', 'name': 'English'}]</td>\n",
       "      <td>Released</td>\n",
       "      <td>Friends are the people who let you be yourself...</td>\n",
       "      <td>Waiting to Exhale</td>\n",
       "      <td>False</td>\n",
       "      <td>6.1</td>\n",
       "      <td>34.0</td>\n",
       "    </tr>\n",
       "    <tr>\n",
       "      <th>4</th>\n",
       "      <td>11862</td>\n",
       "      <td>0</td>\n",
       "      <td>[{'id': 35, 'name': 'Comedy'}]</td>\n",
       "      <td>tt0113041</td>\n",
       "      <td>en</td>\n",
       "      <td>Father of the Bride Part II</td>\n",
       "      <td>Just when George Banks has recovered from his ...</td>\n",
       "      <td>8.38752</td>\n",
       "      <td>/e64sOI48hQXyru7naBFyssKFxVd.jpg</td>\n",
       "      <td>[{'name': 'Sandollar Productions', 'id': 5842}...</td>\n",
       "      <td>...</td>\n",
       "      <td>2/10/1995</td>\n",
       "      <td>76578911.0</td>\n",
       "      <td>106.0</td>\n",
       "      <td>[{'iso_639_1': 'en', 'name': 'English'}]</td>\n",
       "      <td>Released</td>\n",
       "      <td>Just When His World Is Back To Normal... He's ...</td>\n",
       "      <td>Father of the Bride Part II</td>\n",
       "      <td>False</td>\n",
       "      <td>5.7</td>\n",
       "      <td>173.0</td>\n",
       "    </tr>\n",
       "    <tr>\n",
       "      <th>5</th>\n",
       "      <td>949</td>\n",
       "      <td>60000000</td>\n",
       "      <td>[{'id': 28, 'name': 'Action'}, {'id': 80, 'nam...</td>\n",
       "      <td>tt0113277</td>\n",
       "      <td>en</td>\n",
       "      <td>Heat</td>\n",
       "      <td>Obsessive master thief, Neil McCauley leads a ...</td>\n",
       "      <td>17.9249</td>\n",
       "      <td>/zMyfPUelumio3tiDKPffaUpsQTD.jpg</td>\n",
       "      <td>[{'name': 'Regency Enterprises', 'id': 508}, {...</td>\n",
       "      <td>...</td>\n",
       "      <td>12/15/1995</td>\n",
       "      <td>187436818.0</td>\n",
       "      <td>170.0</td>\n",
       "      <td>[{'iso_639_1': 'en', 'name': 'English'}, {'iso...</td>\n",
       "      <td>Released</td>\n",
       "      <td>A Los Angeles Crime Saga</td>\n",
       "      <td>Heat</td>\n",
       "      <td>False</td>\n",
       "      <td>7.7</td>\n",
       "      <td>1886.0</td>\n",
       "    </tr>\n",
       "  </tbody>\n",
       "</table>\n",
       "<p>5 rows × 21 columns</p>\n",
       "</div>"
      ],
      "text/plain": [
       "      id    budget                                             genres  \\\n",
       "1   8844  65000000  [{'id': 12, 'name': 'Adventure'}, {'id': 14, '...   \n",
       "2  15602         0  [{'id': 10749, 'name': 'Romance'}, {'id': 35, ...   \n",
       "3  31357  16000000  [{'id': 35, 'name': 'Comedy'}, {'id': 18, 'nam...   \n",
       "4  11862         0                     [{'id': 35, 'name': 'Comedy'}]   \n",
       "5    949  60000000  [{'id': 28, 'name': 'Action'}, {'id': 80, 'nam...   \n",
       "\n",
       "     imdb_id original_language               original_title  \\\n",
       "1  tt0113497                en                      Jumanji   \n",
       "2  tt0113228                en             Grumpier Old Men   \n",
       "3  tt0114885                en            Waiting to Exhale   \n",
       "4  tt0113041                en  Father of the Bride Part II   \n",
       "5  tt0113277                en                         Heat   \n",
       "\n",
       "                                            overview popularity  \\\n",
       "1  When siblings Judy and Peter discover an encha...    17.0155   \n",
       "2  A family wedding reignites the ancient feud be...    11.7129   \n",
       "3  Cheated on, mistreated and stepped on, the wom...    3.85949   \n",
       "4  Just when George Banks has recovered from his ...    8.38752   \n",
       "5  Obsessive master thief, Neil McCauley leads a ...    17.9249   \n",
       "\n",
       "                        poster_path  \\\n",
       "1  /vzmL6fP7aPKNKPRTFnZmiUfciyV.jpg   \n",
       "2  /6ksm1sjKMFLbO7UY2i6G1ju9SML.jpg   \n",
       "3  /16XOMpEaLWkrcPqSQqhTmeJuqQl.jpg   \n",
       "4  /e64sOI48hQXyru7naBFyssKFxVd.jpg   \n",
       "5  /zMyfPUelumio3tiDKPffaUpsQTD.jpg   \n",
       "\n",
       "                                production_companies     ...     release_date  \\\n",
       "1  [{'name': 'TriStar Pictures', 'id': 559}, {'na...     ...       12/15/1995   \n",
       "2  [{'name': 'Warner Bros.', 'id': 6194}, {'name'...     ...       12/22/1995   \n",
       "3  [{'name': 'Twentieth Century Fox Film Corporat...     ...       12/22/1995   \n",
       "4  [{'name': 'Sandollar Productions', 'id': 5842}...     ...        2/10/1995   \n",
       "5  [{'name': 'Regency Enterprises', 'id': 508}, {...     ...       12/15/1995   \n",
       "\n",
       "       revenue  runtime                                   spoken_languages  \\\n",
       "1  262797249.0    104.0  [{'iso_639_1': 'en', 'name': 'English'}, {'iso...   \n",
       "2          0.0    101.0           [{'iso_639_1': 'en', 'name': 'English'}]   \n",
       "3   81452156.0    127.0           [{'iso_639_1': 'en', 'name': 'English'}]   \n",
       "4   76578911.0    106.0           [{'iso_639_1': 'en', 'name': 'English'}]   \n",
       "5  187436818.0    170.0  [{'iso_639_1': 'en', 'name': 'English'}, {'iso...   \n",
       "\n",
       "     status                                            tagline  \\\n",
       "1  Released          Roll the dice and unleash the excitement!   \n",
       "2  Released  Still Yelling. Still Fighting. Still Ready for...   \n",
       "3  Released  Friends are the people who let you be yourself...   \n",
       "4  Released  Just When His World Is Back To Normal... He's ...   \n",
       "5  Released                           A Los Angeles Crime Saga   \n",
       "\n",
       "                         title  video vote_average  vote_count  \n",
       "1                      Jumanji  False          6.9      2413.0  \n",
       "2             Grumpier Old Men  False          6.5        92.0  \n",
       "3            Waiting to Exhale  False          6.1        34.0  \n",
       "4  Father of the Bride Part II  False          5.7       173.0  \n",
       "5                         Heat  False          7.7      1886.0  \n",
       "\n",
       "[5 rows x 21 columns]"
      ]
     },
     "execution_count": 57,
     "metadata": {},
     "output_type": "execute_result"
    }
   ],
   "source": [
    "#dropping row from dataframe\n",
    "data_clean.drop(index=0,axis=0,inplace=True)\n",
    "data_clean.head()"
   ]
  },
  {
   "cell_type": "code",
   "execution_count": 58,
   "metadata": {},
   "outputs": [
    {
     "data": {
      "text/plain": [
       "array(['Released', nan, 'Rumored', 'Post Production', 'In Production',\n",
       "       'Planned', 'Canceled'], dtype=object)"
      ]
     },
     "execution_count": 58,
     "metadata": {},
     "output_type": "execute_result"
    }
   ],
   "source": [
    "#unique values in status variable\n",
    "data_imdb['status'].unique()"
   ]
  },
  {
   "cell_type": "code",
   "execution_count": 59,
   "metadata": {},
   "outputs": [
    {
     "data": {
      "text/plain": [
       "id                       45436\n",
       "belongs_to_collection     1698\n",
       "budget                    1226\n",
       "genres                    4069\n",
       "homepage                  7673\n",
       "imdb_id                  45417\n",
       "original_language           92\n",
       "original_title           43371\n",
       "overview                 44307\n",
       "popularity               44176\n",
       "poster_path              45024\n",
       "production_companies     22708\n",
       "production_countries      2393\n",
       "release_date             17336\n",
       "revenue                   6863\n",
       "runtime                    353\n",
       "spoken_languages          1931\n",
       "status                       6\n",
       "tagline                  20283\n",
       "title                    42275\n",
       "video                        2\n",
       "vote_average                92\n",
       "vote_count                1820\n",
       "dtype: int64"
      ]
     },
     "execution_count": 59,
     "metadata": {},
     "output_type": "execute_result"
    }
   ],
   "source": [
    "#count of not duplicated values under each variable\n",
    "data_imdb.nunique()"
   ]
  },
  {
   "cell_type": "code",
   "execution_count": 60,
   "metadata": {},
   "outputs": [
    {
     "data": {
      "text/plain": [
       "Released           45014\n",
       "Rumored              230\n",
       "Post Production       98\n",
       "In Production         20\n",
       "Planned               15\n",
       "Canceled               2\n",
       "Name: status, dtype: int64"
      ]
     },
     "execution_count": 60,
     "metadata": {},
     "output_type": "execute_result"
    }
   ],
   "source": [
    "#number of observation in each category of status variable\n",
    "data_imdb['status'].value_counts()"
   ]
  },
  {
   "cell_type": "code",
   "execution_count": 61,
   "metadata": {},
   "outputs": [
    {
     "data": {
      "text/plain": [
       "False    45367\n",
       "True        93\n",
       "Name: video, dtype: int64"
      ]
     },
     "execution_count": 61,
     "metadata": {},
     "output_type": "execute_result"
    }
   ],
   "source": [
    "#number of observation in each category of video variable\n",
    "data_imdb['video'].value_counts()"
   ]
  },
  {
   "cell_type": "code",
   "execution_count": 62,
   "metadata": {
    "scrolled": true
   },
   "outputs": [
    {
     "name": "stdout",
     "output_type": "stream",
     "text": [
      "\n",
      " tagline \n",
      "\n",
      "Based on a true story.                                                                                                      7\n",
      "Be careful what you wish for.                                                                                               4\n",
      "-                                                                                                                           4\n",
      "Trust no one.                                                                                                               4\n",
      "Drama                                                                                                                       3\n",
      "There are two sides to every love story.                                                                                    3\n",
      "Know Your Enemy                                                                                                             3\n",
      "A Love Story                                                                                                                3\n",
      "Classic Albums                                                                                                              3\n",
      "Documentary                                                                                                                 3\n",
      "The end is near.                                                                                                            3\n",
      "There is no turning back                                                                                                    3\n",
      "Who is John Galt?                                                                                                           3\n",
      "Some doors should never be opened.                                                                                          3\n",
      "How far would you go?                                                                                                       3\n",
      "Which one is the first to return - memory or the murderer?                                                                  3\n",
      "There are two sides to every lie.                                                                                           2\n",
      "One Nation. Underfed.                                                                                                       2\n",
      "Touched by Genius. Cursed by Madness. Blinded by Love.                                                                      2\n",
      "Murder is an art.                                                                                                           2\n",
      "A true story.                                                                                                               2\n",
      "How Miami became the cocaine capital of the United States!                                                                  2\n",
      "Revenge Has No Limits                                                                                                       2\n",
      "Love never dies.                                                                                                            2\n",
      "A love, a hope, a wall.                                                                                                     2\n",
      "Love is a monster.                                                                                                          2\n",
      "Stand Your Ground                                                                                                           2\n",
      "Inspect the unexpected.                                                                                                     2\n",
      "Adapt or die.                                                                                                               2\n",
      "One ordinary couple. One little white lie.                                                                                  2\n",
      "                                                                                                                           ..\n",
      "Assassin 47                                                                                                                 1\n",
      "PARANOIA sucks you into a whirlpool of erotic love!                                                                         1\n",
      "When the dead come out to play.                                                                                             1\n",
      "Una Mezcla que atrapa                                                                                                       1\n",
      "Pray for day.                                                                                                               1\n",
      "A dreamer and a champion. An unbeatable team...Until his hero stepped out of his fantasies to fight at his side.            1\n",
      "Whats your emergency?                                                                                                       1\n",
      "In the end things work out for the best, for all of us                                                                      1\n",
      "Dare to dream.                                                                                                              1\n",
      "All he wanted was a little adulation                                                                                        1\n",
      "33 days of missing, nobody but them believed she's still alive.                                                             1\n",
      "One Man's Terrorist...is another Man's Patriot                                                                              1\n",
      "In a World as different as Night and Day !                                                                                  1\n",
      "Partition on a strange madness!                                                                                             1\n",
      "The greatest film about prison life                                                                                         1\n",
      "BAFFLING! BREATHTAKING! CHILLS-THRILLS!                                                                                     1\n",
      "Fighting Crime Brick by Brick                                                                                               1\n",
      "Of all the worlds in all the galaxies...why did they pick this one?                                                         1\n",
      "The Other Side of Reason. The Other Side of Fate. The Other Side of Truth.                                                  1\n",
      "A rock'n'road movie about a girl who learns to drive.                                                                       1\n",
      "Contain The Truth.                                                                                                          1\n",
      "He didn't resist temptation. He pursued it.                                                                                 1\n",
      "I will destroy everything - The servant who obeys you, the Physician who heals you, the Priest who gives you absolution.    1\n",
      "They're not bad. They're just born that way.                                                                                1\n",
      "We are the first. USSR.                                                                                                     1\n",
      "Their violence seared the West like a branding iron!                                                                        1\n",
      "Victory is the only option                                                                                                  1\n",
      "They dare to climb a terrifying new peak in suspense... all the way up to hell!                                             1\n",
      "Come spend the night in Singapore's red-light district                                                                      1\n",
      "Lying is Easy, Love is Hard                                                                                                 1\n",
      "Name: tagline, Length: 20283, dtype: int64\n",
      "***************************************\n",
      "\n",
      " title \n",
      "\n",
      "Cinderella                             11\n",
      "Alice in Wonderland                     9\n",
      "Hamlet                                  9\n",
      "Beauty and the Beast                    8\n",
      "Les Misérables                          8\n",
      "Blackout                                7\n",
      "The Three Musketeers                    7\n",
      "A Christmas Carol                       7\n",
      "Treasure Island                         7\n",
      "Heidi                                   6\n",
      "The Hound of the Baskervilles           6\n",
      "The Hunters                             6\n",
      "The Forest                              6\n",
      "Aftermath                               6\n",
      "Home                                    6\n",
      "The Circle                              6\n",
      "The Promise                             6\n",
      "First Love                              6\n",
      "Jane Eyre                               6\n",
      "Mother                                  6\n",
      "Bluebeard                               6\n",
      "Love                                    6\n",
      "The Stranger                            6\n",
      "King Lear                               6\n",
      "Wuthering Heights                       6\n",
      "Macbeth                                 6\n",
      "Countdown                               6\n",
      "The Journey                             6\n",
      "Freedom                                 5\n",
      "Outrage                                 5\n",
      "                                       ..\n",
      "Il caso Moro                            1\n",
      "Hart to Hart: Till Death Do Us Hart     1\n",
      "The Gruffalo's Child                    1\n",
      "SOS                                     1\n",
      "The Last Play at Shea                   1\n",
      "Malice@Doll                             1\n",
      "Alone in the Wilderness Part II         1\n",
      "Free State of Jones                     1\n",
      "Faraway, So Close!                      1\n",
      "KM 31: Kilometer 31                     1\n",
      "12 Storeys                              1\n",
      "JFK: The Smoking Gun                    1\n",
      "Lifeforce                               1\n",
      "Games of Love and Chance                1\n",
      "The Beloved Vagabond                    1\n",
      "Buttoners                               1\n",
      "Daredevil                               1\n",
      "The Tramp                               1\n",
      "Whatever Lola wants                     1\n",
      "Flamenco at 5:15                        1\n",
      "Looking for Langston                    1\n",
      "Il Ragazzo di Campagna                  1\n",
      "Uranus                                  1\n",
      "Labyrinth of Dreams                     1\n",
      "Down the Deep, Dark Web                 1\n",
      "Identity                                1\n",
      "The Rolling Stones: Stones in Exile     1\n",
      "The Magic Ring                          1\n",
      "Death in the Garden                     1\n",
      "Eliminators                             1\n",
      "Name: title, Length: 42275, dtype: int64\n",
      "***************************************\n",
      "\n",
      " video \n",
      "\n",
      "False    45367\n",
      "True        93\n",
      "Name: video, dtype: int64\n",
      "***************************************\n",
      "\n",
      " vote_average \n",
      "\n",
      "0.0    2998\n",
      "6.0    2468\n",
      "5.0    2001\n",
      "7.0    1886\n",
      "6.5    1722\n",
      "6.3    1603\n",
      "5.5    1381\n",
      "5.8    1369\n",
      "6.4    1350\n",
      "6.7    1342\n",
      "6.8    1324\n",
      "6.1    1281\n",
      "6.6    1263\n",
      "6.2    1253\n",
      "5.9    1196\n",
      "5.3    1082\n",
      "5.7    1046\n",
      "6.9    1037\n",
      "5.6    1006\n",
      "7.3    1000\n",
      "5.4     916\n",
      "7.1     879\n",
      "7.5     851\n",
      "7.2     807\n",
      "8.0     765\n",
      "7.4     691\n",
      "5.2     690\n",
      "4.0     685\n",
      "4.8     663\n",
      "5.1     642\n",
      "       ... \n",
      "3.1      49\n",
      "2.3      45\n",
      "8.7      45\n",
      "2.7      44\n",
      "2.9      40\n",
      "8.8      32\n",
      "2.6      31\n",
      "1.5      30\n",
      "8.6      25\n",
      "2.2      20\n",
      "2.4      19\n",
      "9.5      18\n",
      "9.3      18\n",
      "2.1      16\n",
      "1.7      13\n",
      "1.3      13\n",
      "0.5      13\n",
      "1.8       9\n",
      "1.9       8\n",
      "8.9       7\n",
      "1.6       6\n",
      "1.4       5\n",
      "9.2       4\n",
      "1.2       4\n",
      "9.1       3\n",
      "9.4       3\n",
      "9.8       1\n",
      "0.7       1\n",
      "9.6       1\n",
      "1.1       1\n",
      "Name: vote_average, Length: 92, dtype: int64\n",
      "***************************************\n",
      "\n",
      " vote_count \n",
      "\n",
      "1.0       3264\n",
      "2.0       3132\n",
      "0.0       2899\n",
      "3.0       2787\n",
      "4.0       2480\n",
      "5.0       2097\n",
      "6.0       1747\n",
      "7.0       1570\n",
      "8.0       1359\n",
      "9.0       1194\n",
      "10.0      1171\n",
      "11.0       944\n",
      "12.0       859\n",
      "13.0       733\n",
      "14.0       700\n",
      "15.0       674\n",
      "16.0       601\n",
      "17.0       554\n",
      "18.0       497\n",
      "20.0       463\n",
      "19.0       438\n",
      "22.0       413\n",
      "21.0       400\n",
      "23.0       337\n",
      "24.0       337\n",
      "25.0       312\n",
      "26.0       310\n",
      "27.0       269\n",
      "28.0       266\n",
      "30.0       239\n",
      "          ... \n",
      "442.0        1\n",
      "1618.0       1\n",
      "3471.0       1\n",
      "587.0        1\n",
      "3274.0       1\n",
      "1762.0       1\n",
      "2258.0       1\n",
      "7993.0       1\n",
      "1140.0       1\n",
      "2997.0       1\n",
      "3687.0       1\n",
      "2083.0       1\n",
      "1143.0       1\n",
      "895.0        1\n",
      "1029.0       1\n",
      "1820.0       1\n",
      "1890.0       1\n",
      "1581.0       1\n",
      "1043.0       1\n",
      "781.0        1\n",
      "4228.0       1\n",
      "900.0        1\n",
      "1218.0       1\n",
      "3418.0       1\n",
      "2519.0       1\n",
      "4461.0       1\n",
      "1085.0       1\n",
      "1539.0       1\n",
      "2487.0       1\n",
      "3086.0       1\n",
      "Name: vote_count, Length: 1820, dtype: int64\n",
      "***************************************\n"
     ]
    }
   ],
   "source": [
    "#print value counts for last five variables in the dataset by using for loop\n",
    "for i in data_imdb.columns[-5:]:\n",
    "    print('\\n',i,'\\n')\n",
    "    print(data_imdb[i].value_counts())\n",
    "    print('***************************************')"
   ]
  },
  {
   "cell_type": "code",
   "execution_count": 63,
   "metadata": {},
   "outputs": [
    {
     "name": "stdout",
     "output_type": "stream",
     "text": [
      "id has  0  missing values\n",
      "belongs_to_collection has  40972  missing values\n",
      "budget has  0  missing values\n",
      "genres has  0  missing values\n",
      "homepage has  37684  missing values\n",
      "imdb_id has  17  missing values\n",
      "original_language has  11  missing values\n",
      "original_title has  0  missing values\n",
      "overview has  954  missing values\n",
      "popularity has  5  missing values\n",
      "poster_path has  386  missing values\n",
      "production_companies has  3  missing values\n",
      "production_countries has  3  missing values\n",
      "release_date has  87  missing values\n",
      "revenue has  6  missing values\n",
      "runtime has  263  missing values\n",
      "spoken_languages has  6  missing values\n",
      "status has  87  missing values\n",
      "tagline has  25054  missing values\n",
      "title has  6  missing values\n",
      "video has  6  missing values\n",
      "vote_average has  6  missing values\n",
      "vote_count has  6  missing values\n"
     ]
    }
   ],
   "source": [
    "#checking null values in each variable by using for loop\n",
    "for i in data_imdb.columns:\n",
    "    print(i,'has ',data_imdb[i].isnull().sum(), ' missing values')"
   ]
  },
  {
   "cell_type": "markdown",
   "metadata": {},
   "source": [
    "> **Note** \n",
    "- <code>isnull()</code>: Detect missing values for an array-like object. This function takes a scalar or array-like object and indicates whether values are missing (NaN in numeric arrays, None or NaN in object arrays, NaT in datetimelike).\n",
    "- <code>isna()</code> : Detect missing values for an array-like object. This function takes a scalar or array-like object and indicates whether values are missing (NaN in numeric arrays, None or NaN in object arrays, NaT in datetimelike)."
   ]
  },
  {
   "cell_type": "code",
   "execution_count": 65,
   "metadata": {
    "scrolled": true
   },
   "outputs": [
    {
     "data": {
      "text/html": [
       "<div>\n",
       "<style scoped>\n",
       "    .dataframe tbody tr th:only-of-type {\n",
       "        vertical-align: middle;\n",
       "    }\n",
       "\n",
       "    .dataframe tbody tr th {\n",
       "        vertical-align: top;\n",
       "    }\n",
       "\n",
       "    .dataframe thead th {\n",
       "        text-align: right;\n",
       "    }\n",
       "</style>\n",
       "<table border=\"1\" class=\"dataframe\">\n",
       "  <thead>\n",
       "    <tr style=\"text-align: right;\">\n",
       "      <th></th>\n",
       "      <th>title</th>\n",
       "      <th>vote_average</th>\n",
       "      <th>vote_count</th>\n",
       "    </tr>\n",
       "  </thead>\n",
       "  <tbody>\n",
       "    <tr>\n",
       "      <th>15480</th>\n",
       "      <td>Inception</td>\n",
       "      <td>8.1</td>\n",
       "      <td>14075.0</td>\n",
       "    </tr>\n",
       "    <tr>\n",
       "      <th>12481</th>\n",
       "      <td>The Dark Knight</td>\n",
       "      <td>8.3</td>\n",
       "      <td>12269.0</td>\n",
       "    </tr>\n",
       "    <tr>\n",
       "      <th>14551</th>\n",
       "      <td>Avatar</td>\n",
       "      <td>7.2</td>\n",
       "      <td>12114.0</td>\n",
       "    </tr>\n",
       "    <tr>\n",
       "      <th>17818</th>\n",
       "      <td>The Avengers</td>\n",
       "      <td>7.4</td>\n",
       "      <td>12000.0</td>\n",
       "    </tr>\n",
       "    <tr>\n",
       "      <th>26564</th>\n",
       "      <td>Deadpool</td>\n",
       "      <td>7.4</td>\n",
       "      <td>11444.0</td>\n",
       "    </tr>\n",
       "    <tr>\n",
       "      <th>22879</th>\n",
       "      <td>Interstellar</td>\n",
       "      <td>8.1</td>\n",
       "      <td>11187.0</td>\n",
       "    </tr>\n",
       "    <tr>\n",
       "      <th>20051</th>\n",
       "      <td>Django Unchained</td>\n",
       "      <td>7.8</td>\n",
       "      <td>10297.0</td>\n",
       "    </tr>\n",
       "    <tr>\n",
       "      <th>23753</th>\n",
       "      <td>Guardians of the Galaxy</td>\n",
       "      <td>7.9</td>\n",
       "      <td>10014.0</td>\n",
       "    </tr>\n",
       "    <tr>\n",
       "      <th>2843</th>\n",
       "      <td>Fight Club</td>\n",
       "      <td>8.3</td>\n",
       "      <td>9678.0</td>\n",
       "    </tr>\n",
       "    <tr>\n",
       "      <th>18244</th>\n",
       "      <td>The Hunger Games</td>\n",
       "      <td>6.9</td>\n",
       "      <td>9634.0</td>\n",
       "    </tr>\n",
       "    <tr>\n",
       "      <th>26553</th>\n",
       "      <td>Mad Max: Fury Road</td>\n",
       "      <td>7.3</td>\n",
       "      <td>9629.0</td>\n",
       "    </tr>\n",
       "    <tr>\n",
       "      <th>18252</th>\n",
       "      <td>The Dark Knight Rises</td>\n",
       "      <td>7.6</td>\n",
       "      <td>9263.0</td>\n",
       "    </tr>\n",
       "    <tr>\n",
       "      <th>2458</th>\n",
       "      <td>The Matrix</td>\n",
       "      <td>7.9</td>\n",
       "      <td>9079.0</td>\n",
       "    </tr>\n",
       "    <tr>\n",
       "      <th>12588</th>\n",
       "      <td>Iron Man</td>\n",
       "      <td>7.4</td>\n",
       "      <td>8951.0</td>\n",
       "    </tr>\n",
       "    <tr>\n",
       "      <th>20830</th>\n",
       "      <td>Iron Man 3</td>\n",
       "      <td>6.8</td>\n",
       "      <td>8951.0</td>\n",
       "    </tr>\n",
       "    <tr>\n",
       "      <th>4863</th>\n",
       "      <td>The Lord of the Rings: The Fellowship of the Ring</td>\n",
       "      <td>8.0</td>\n",
       "      <td>8892.0</td>\n",
       "    </tr>\n",
       "    <tr>\n",
       "      <th>25084</th>\n",
       "      <td>Jurassic World</td>\n",
       "      <td>6.5</td>\n",
       "      <td>8842.0</td>\n",
       "    </tr>\n",
       "    <tr>\n",
       "      <th>292</th>\n",
       "      <td>Pulp Fiction</td>\n",
       "      <td>8.3</td>\n",
       "      <td>8670.0</td>\n",
       "    </tr>\n",
       "    <tr>\n",
       "      <th>19971</th>\n",
       "      <td>The Hobbit: An Unexpected Journey</td>\n",
       "      <td>7.0</td>\n",
       "      <td>8427.0</td>\n",
       "    </tr>\n",
       "    <tr>\n",
       "      <th>314</th>\n",
       "      <td>The Shawshank Redemption</td>\n",
       "      <td>8.5</td>\n",
       "      <td>8358.0</td>\n",
       "    </tr>\n",
       "    <tr>\n",
       "      <th>7000</th>\n",
       "      <td>The Lord of the Rings: The Return of the King</td>\n",
       "      <td>8.1</td>\n",
       "      <td>8226.0</td>\n",
       "    </tr>\n",
       "    <tr>\n",
       "      <th>351</th>\n",
       "      <td>Forrest Gump</td>\n",
       "      <td>8.2</td>\n",
       "      <td>8147.0</td>\n",
       "    </tr>\n",
       "    <tr>\n",
       "      <th>26555</th>\n",
       "      <td>Star Wars: The Force Awakens</td>\n",
       "      <td>7.5</td>\n",
       "      <td>7993.0</td>\n",
       "    </tr>\n",
       "    <tr>\n",
       "      <th>1639</th>\n",
       "      <td>Titanic</td>\n",
       "      <td>7.5</td>\n",
       "      <td>7770.0</td>\n",
       "    </tr>\n",
       "    <tr>\n",
       "      <th>19261</th>\n",
       "      <td>Skyfall</td>\n",
       "      <td>6.9</td>\n",
       "      <td>7718.0</td>\n",
       "    </tr>\n",
       "    <tr>\n",
       "      <th>30543</th>\n",
       "      <td>Suicide Squad</td>\n",
       "      <td>5.9</td>\n",
       "      <td>7717.0</td>\n",
       "    </tr>\n",
       "    <tr>\n",
       "      <th>5814</th>\n",
       "      <td>The Lord of the Rings: The Two Towers</td>\n",
       "      <td>8.0</td>\n",
       "      <td>7641.0</td>\n",
       "    </tr>\n",
       "    <tr>\n",
       "      <th>10122</th>\n",
       "      <td>Batman Begins</td>\n",
       "      <td>7.5</td>\n",
       "      <td>7511.0</td>\n",
       "    </tr>\n",
       "    <tr>\n",
       "      <th>26567</th>\n",
       "      <td>Captain America: Civil War</td>\n",
       "      <td>7.1</td>\n",
       "      <td>7462.0</td>\n",
       "    </tr>\n",
       "    <tr>\n",
       "      <th>30051</th>\n",
       "      <td>The Martian</td>\n",
       "      <td>7.6</td>\n",
       "      <td>7442.0</td>\n",
       "    </tr>\n",
       "    <tr>\n",
       "      <th>...</th>\n",
       "      <td>...</td>\n",
       "      <td>...</td>\n",
       "      <td>...</td>\n",
       "    </tr>\n",
       "    <tr>\n",
       "      <th>45289</th>\n",
       "      <td>King's Road</td>\n",
       "      <td>0.0</td>\n",
       "      <td>0.0</td>\n",
       "    </tr>\n",
       "    <tr>\n",
       "      <th>45290</th>\n",
       "      <td>Siv Sleeps Astray</td>\n",
       "      <td>0.0</td>\n",
       "      <td>0.0</td>\n",
       "    </tr>\n",
       "    <tr>\n",
       "      <th>45306</th>\n",
       "      <td>Pani z przedszkola</td>\n",
       "      <td>0.0</td>\n",
       "      <td>0.0</td>\n",
       "    </tr>\n",
       "    <tr>\n",
       "      <th>45308</th>\n",
       "      <td>The Good Herbs</td>\n",
       "      <td>0.0</td>\n",
       "      <td>0.0</td>\n",
       "    </tr>\n",
       "    <tr>\n",
       "      <th>45310</th>\n",
       "      <td>Między nami dobrze jest</td>\n",
       "      <td>0.0</td>\n",
       "      <td>0.0</td>\n",
       "    </tr>\n",
       "    <tr>\n",
       "      <th>45311</th>\n",
       "      <td>Grandma Lo-Fi</td>\n",
       "      <td>0.0</td>\n",
       "      <td>0.0</td>\n",
       "    </tr>\n",
       "    <tr>\n",
       "      <th>45312</th>\n",
       "      <td>Włatcy móch. Ćmoki, Czopki i Mondzioły</td>\n",
       "      <td>0.0</td>\n",
       "      <td>0.0</td>\n",
       "    </tr>\n",
       "    <tr>\n",
       "      <th>45313</th>\n",
       "      <td>Ostatni dzwonek</td>\n",
       "      <td>0.0</td>\n",
       "      <td>0.0</td>\n",
       "    </tr>\n",
       "    <tr>\n",
       "      <th>45315</th>\n",
       "      <td>Mr. Blot in Space</td>\n",
       "      <td>0.0</td>\n",
       "      <td>0.0</td>\n",
       "    </tr>\n",
       "    <tr>\n",
       "      <th>45316</th>\n",
       "      <td>Friend of the Jolly Devil</td>\n",
       "      <td>0.0</td>\n",
       "      <td>0.0</td>\n",
       "    </tr>\n",
       "    <tr>\n",
       "      <th>45338</th>\n",
       "      <td>The Land Where the Blues Began</td>\n",
       "      <td>0.0</td>\n",
       "      <td>0.0</td>\n",
       "    </tr>\n",
       "    <tr>\n",
       "      <th>45359</th>\n",
       "      <td>What a Fuck Am I Doing on This Battlefield</td>\n",
       "      <td>0.0</td>\n",
       "      <td>0.0</td>\n",
       "    </tr>\n",
       "    <tr>\n",
       "      <th>45361</th>\n",
       "      <td>The Airzone Solution</td>\n",
       "      <td>0.0</td>\n",
       "      <td>0.0</td>\n",
       "    </tr>\n",
       "    <tr>\n",
       "      <th>45367</th>\n",
       "      <td>The Stranger: Summoned by Shadows</td>\n",
       "      <td>0.0</td>\n",
       "      <td>0.0</td>\n",
       "    </tr>\n",
       "    <tr>\n",
       "      <th>45376</th>\n",
       "      <td>Polar Flight</td>\n",
       "      <td>0.0</td>\n",
       "      <td>0.0</td>\n",
       "    </tr>\n",
       "    <tr>\n",
       "      <th>45377</th>\n",
       "      <td>Simbad e il califfo di Bagdad</td>\n",
       "      <td>0.0</td>\n",
       "      <td>0.0</td>\n",
       "    </tr>\n",
       "    <tr>\n",
       "      <th>45393</th>\n",
       "      <td>The Sparrow's Fluttering</td>\n",
       "      <td>0.0</td>\n",
       "      <td>0.0</td>\n",
       "    </tr>\n",
       "    <tr>\n",
       "      <th>45416</th>\n",
       "      <td>Whiffles, Cubic Artist</td>\n",
       "      <td>0.0</td>\n",
       "      <td>0.0</td>\n",
       "    </tr>\n",
       "    <tr>\n",
       "      <th>45431</th>\n",
       "      <td>Rivers of Sand</td>\n",
       "      <td>0.0</td>\n",
       "      <td>0.0</td>\n",
       "    </tr>\n",
       "    <tr>\n",
       "      <th>45432</th>\n",
       "      <td>Altar of Fire</td>\n",
       "      <td>0.0</td>\n",
       "      <td>0.0</td>\n",
       "    </tr>\n",
       "    <tr>\n",
       "      <th>45434</th>\n",
       "      <td>The Wonders of Aladdin</td>\n",
       "      <td>0.0</td>\n",
       "      <td>0.0</td>\n",
       "    </tr>\n",
       "    <tr>\n",
       "      <th>45452</th>\n",
       "      <td>Deep Hearts</td>\n",
       "      <td>0.0</td>\n",
       "      <td>0.0</td>\n",
       "    </tr>\n",
       "    <tr>\n",
       "      <th>45464</th>\n",
       "      <td>Satan Triumphant</td>\n",
       "      <td>0.0</td>\n",
       "      <td>0.0</td>\n",
       "    </tr>\n",
       "    <tr>\n",
       "      <th>45465</th>\n",
       "      <td>Queerama</td>\n",
       "      <td>0.0</td>\n",
       "      <td>0.0</td>\n",
       "    </tr>\n",
       "    <tr>\n",
       "      <th>19729</th>\n",
       "      <td>NaN</td>\n",
       "      <td>NaN</td>\n",
       "      <td>NaN</td>\n",
       "    </tr>\n",
       "    <tr>\n",
       "      <th>19730</th>\n",
       "      <td>NaN</td>\n",
       "      <td>NaN</td>\n",
       "      <td>NaN</td>\n",
       "    </tr>\n",
       "    <tr>\n",
       "      <th>29502</th>\n",
       "      <td>NaN</td>\n",
       "      <td>NaN</td>\n",
       "      <td>NaN</td>\n",
       "    </tr>\n",
       "    <tr>\n",
       "      <th>29503</th>\n",
       "      <td>NaN</td>\n",
       "      <td>NaN</td>\n",
       "      <td>NaN</td>\n",
       "    </tr>\n",
       "    <tr>\n",
       "      <th>35586</th>\n",
       "      <td>NaN</td>\n",
       "      <td>NaN</td>\n",
       "      <td>NaN</td>\n",
       "    </tr>\n",
       "    <tr>\n",
       "      <th>35587</th>\n",
       "      <td>NaN</td>\n",
       "      <td>NaN</td>\n",
       "      <td>NaN</td>\n",
       "    </tr>\n",
       "  </tbody>\n",
       "</table>\n",
       "<p>45466 rows × 3 columns</p>\n",
       "</div>"
      ],
      "text/plain": [
       "                                                   title  vote_average  \\\n",
       "15480                                          Inception           8.1   \n",
       "12481                                    The Dark Knight           8.3   \n",
       "14551                                             Avatar           7.2   \n",
       "17818                                       The Avengers           7.4   \n",
       "26564                                           Deadpool           7.4   \n",
       "22879                                       Interstellar           8.1   \n",
       "20051                                   Django Unchained           7.8   \n",
       "23753                            Guardians of the Galaxy           7.9   \n",
       "2843                                          Fight Club           8.3   \n",
       "18244                                   The Hunger Games           6.9   \n",
       "26553                                 Mad Max: Fury Road           7.3   \n",
       "18252                              The Dark Knight Rises           7.6   \n",
       "2458                                          The Matrix           7.9   \n",
       "12588                                           Iron Man           7.4   \n",
       "20830                                         Iron Man 3           6.8   \n",
       "4863   The Lord of the Rings: The Fellowship of the Ring           8.0   \n",
       "25084                                     Jurassic World           6.5   \n",
       "292                                         Pulp Fiction           8.3   \n",
       "19971                  The Hobbit: An Unexpected Journey           7.0   \n",
       "314                             The Shawshank Redemption           8.5   \n",
       "7000       The Lord of the Rings: The Return of the King           8.1   \n",
       "351                                         Forrest Gump           8.2   \n",
       "26555                       Star Wars: The Force Awakens           7.5   \n",
       "1639                                             Titanic           7.5   \n",
       "19261                                            Skyfall           6.9   \n",
       "30543                                      Suicide Squad           5.9   \n",
       "5814               The Lord of the Rings: The Two Towers           8.0   \n",
       "10122                                      Batman Begins           7.5   \n",
       "26567                         Captain America: Civil War           7.1   \n",
       "30051                                        The Martian           7.6   \n",
       "...                                                  ...           ...   \n",
       "45289                                        King's Road           0.0   \n",
       "45290                                  Siv Sleeps Astray           0.0   \n",
       "45306                                 Pani z przedszkola           0.0   \n",
       "45308                                     The Good Herbs           0.0   \n",
       "45310                            Między nami dobrze jest           0.0   \n",
       "45311                                      Grandma Lo-Fi           0.0   \n",
       "45312             Włatcy móch. Ćmoki, Czopki i Mondzioły           0.0   \n",
       "45313                                    Ostatni dzwonek           0.0   \n",
       "45315                                  Mr. Blot in Space           0.0   \n",
       "45316                          Friend of the Jolly Devil           0.0   \n",
       "45338                     The Land Where the Blues Began           0.0   \n",
       "45359         What a Fuck Am I Doing on This Battlefield           0.0   \n",
       "45361                               The Airzone Solution           0.0   \n",
       "45367                  The Stranger: Summoned by Shadows           0.0   \n",
       "45376                                       Polar Flight           0.0   \n",
       "45377                      Simbad e il califfo di Bagdad           0.0   \n",
       "45393                           The Sparrow's Fluttering           0.0   \n",
       "45416                             Whiffles, Cubic Artist           0.0   \n",
       "45431                                     Rivers of Sand           0.0   \n",
       "45432                                      Altar of Fire           0.0   \n",
       "45434                             The Wonders of Aladdin           0.0   \n",
       "45452                                        Deep Hearts           0.0   \n",
       "45464                                   Satan Triumphant           0.0   \n",
       "45465                                           Queerama           0.0   \n",
       "19729                                                NaN           NaN   \n",
       "19730                                                NaN           NaN   \n",
       "29502                                                NaN           NaN   \n",
       "29503                                                NaN           NaN   \n",
       "35586                                                NaN           NaN   \n",
       "35587                                                NaN           NaN   \n",
       "\n",
       "       vote_count  \n",
       "15480     14075.0  \n",
       "12481     12269.0  \n",
       "14551     12114.0  \n",
       "17818     12000.0  \n",
       "26564     11444.0  \n",
       "22879     11187.0  \n",
       "20051     10297.0  \n",
       "23753     10014.0  \n",
       "2843       9678.0  \n",
       "18244      9634.0  \n",
       "26553      9629.0  \n",
       "18252      9263.0  \n",
       "2458       9079.0  \n",
       "12588      8951.0  \n",
       "20830      8951.0  \n",
       "4863       8892.0  \n",
       "25084      8842.0  \n",
       "292        8670.0  \n",
       "19971      8427.0  \n",
       "314        8358.0  \n",
       "7000       8226.0  \n",
       "351        8147.0  \n",
       "26555      7993.0  \n",
       "1639       7770.0  \n",
       "19261      7718.0  \n",
       "30543      7717.0  \n",
       "5814       7641.0  \n",
       "10122      7511.0  \n",
       "26567      7462.0  \n",
       "30051      7442.0  \n",
       "...           ...  \n",
       "45289         0.0  \n",
       "45290         0.0  \n",
       "45306         0.0  \n",
       "45308         0.0  \n",
       "45310         0.0  \n",
       "45311         0.0  \n",
       "45312         0.0  \n",
       "45313         0.0  \n",
       "45315         0.0  \n",
       "45316         0.0  \n",
       "45338         0.0  \n",
       "45359         0.0  \n",
       "45361         0.0  \n",
       "45367         0.0  \n",
       "45376         0.0  \n",
       "45377         0.0  \n",
       "45393         0.0  \n",
       "45416         0.0  \n",
       "45431         0.0  \n",
       "45432         0.0  \n",
       "45434         0.0  \n",
       "45452         0.0  \n",
       "45464         0.0  \n",
       "45465         0.0  \n",
       "19729         NaN  \n",
       "19730         NaN  \n",
       "29502         NaN  \n",
       "29503         NaN  \n",
       "35586         NaN  \n",
       "35587         NaN  \n",
       "\n",
       "[45466 rows x 3 columns]"
      ]
     },
     "execution_count": 65,
     "metadata": {},
     "output_type": "execute_result"
    }
   ],
   "source": [
    "#sorting dataframe\n",
    "data_imdb[['title','vote_average','vote_count']].sort_values(by=['vote_count','vote_average'],ascending=[False,False])"
   ]
  },
  {
   "cell_type": "markdown",
   "metadata": {},
   "source": [
    "# IMDB TOP 250 Simple Movie Recommender"
   ]
  },
  {
   "cell_type": "markdown",
   "metadata": {},
   "source": [
    "**IMDb adjusts the average movie rating used for the IMDb Top 250 based on the number of votes, let's try to calculate weighted rating using their logic.**\n",
    "\n",
    "\n",
    "$$ Weighted rating formula: $$\n",
    "\n",
    "$$ WR= \\frac{v}{v+m}*R + \\frac{m}{v+m}*C$$\n",
    "\n",
    "- v is the number of votes for the movie;\n",
    "\n",
    "- m is the minimum votes required to be listed in the chart;\n",
    "\n",
    "- R is the average rating of the movie;\n",
    "\n",
    "- C is the mean vote across the whole report."
   ]
  },
  {
   "cell_type": "code",
   "execution_count": 66,
   "metadata": {},
   "outputs": [
    {
     "name": "stdout",
     "output_type": "stream",
     "text": [
      "160.0\n",
      "5.618207215133889\n"
     ]
    }
   ],
   "source": [
    "m=data_imdb['vote_count'].quantile(0.9)\n",
    "C=data_imdb.vote_average.mean()\n",
    "print(m)\n",
    "print(C)"
   ]
  },
  {
   "cell_type": "code",
   "execution_count": 67,
   "metadata": {},
   "outputs": [],
   "source": [
    "#filtering data\n",
    "data_imdb_2=data_imdb[data_imdb['vote_count']>m]"
   ]
  },
  {
   "cell_type": "code",
   "execution_count": 68,
   "metadata": {},
   "outputs": [
    {
     "data": {
      "text/plain": [
       "(4538, 23)"
      ]
     },
     "execution_count": 68,
     "metadata": {},
     "output_type": "execute_result"
    }
   ],
   "source": [
    "#shape of new data\n",
    "data_imdb_2.shape"
   ]
  },
  {
   "cell_type": "code",
   "execution_count": 69,
   "metadata": {},
   "outputs": [],
   "source": [
    "#defining a function that will calculate weighted rating of each movie\n",
    "def weigthed_rating(x,m=m,c=C):\n",
    "    v=x['vote_count']\n",
    "    R=x['vote_average']\n",
    "    WR=(R*v/(v+m)+C*m/(m+v))\n",
    "    return WR"
   ]
  },
  {
   "cell_type": "code",
   "execution_count": 70,
   "metadata": {},
   "outputs": [
    {
     "name": "stderr",
     "output_type": "stream",
     "text": [
      "C:\\Users\\psargsyan\\Anaconda3\\lib\\site-packages\\ipykernel_launcher.py:2: SettingWithCopyWarning: \n",
      "A value is trying to be set on a copy of a slice from a DataFrame.\n",
      "Try using .loc[row_indexer,col_indexer] = value instead\n",
      "\n",
      "See the caveats in the documentation: http://pandas.pydata.org/pandas-docs/stable/indexing.html#indexing-view-versus-copy\n",
      "  \n"
     ]
    }
   ],
   "source": [
    "#creating a new variable in data_imdb_2 in order to store weighted ratings\n",
    "data_imdb_2['Weighted_rating']=data_imdb_2.apply(weigthed_rating,axis=1)"
   ]
  },
  {
   "cell_type": "code",
   "execution_count": 71,
   "metadata": {},
   "outputs": [
    {
     "data": {
      "text/plain": [
       "0    7.640253\n",
       "1    6.820293\n",
       "Name: Weighted_rating, dtype: float64"
      ]
     },
     "execution_count": 71,
     "metadata": {},
     "output_type": "execute_result"
    }
   ],
   "source": [
    "data_imdb_2['Weighted_rating'].head(2)"
   ]
  },
  {
   "cell_type": "code",
   "execution_count": 72,
   "metadata": {},
   "outputs": [
    {
     "data": {
      "text/html": [
       "<div>\n",
       "<style scoped>\n",
       "    .dataframe tbody tr th:only-of-type {\n",
       "        vertical-align: middle;\n",
       "    }\n",
       "\n",
       "    .dataframe tbody tr th {\n",
       "        vertical-align: top;\n",
       "    }\n",
       "\n",
       "    .dataframe thead th {\n",
       "        text-align: right;\n",
       "    }\n",
       "</style>\n",
       "<table border=\"1\" class=\"dataframe\">\n",
       "  <thead>\n",
       "    <tr style=\"text-align: right;\">\n",
       "      <th></th>\n",
       "      <th>title</th>\n",
       "      <th>vote_average</th>\n",
       "      <th>Weighted_rating</th>\n",
       "    </tr>\n",
       "  </thead>\n",
       "  <tbody>\n",
       "    <tr>\n",
       "      <th>314</th>\n",
       "      <td>The Shawshank Redemption</td>\n",
       "      <td>8.5</td>\n",
       "      <td>8.445869</td>\n",
       "    </tr>\n",
       "    <tr>\n",
       "      <th>834</th>\n",
       "      <td>The Godfather</td>\n",
       "      <td>8.5</td>\n",
       "      <td>8.425439</td>\n",
       "    </tr>\n",
       "    <tr>\n",
       "      <th>10309</th>\n",
       "      <td>Dilwale Dulhania Le Jayenge</td>\n",
       "      <td>9.1</td>\n",
       "      <td>8.421453</td>\n",
       "    </tr>\n",
       "    <tr>\n",
       "      <th>12481</th>\n",
       "      <td>The Dark Knight</td>\n",
       "      <td>8.3</td>\n",
       "      <td>8.265477</td>\n",
       "    </tr>\n",
       "    <tr>\n",
       "      <th>2843</th>\n",
       "      <td>Fight Club</td>\n",
       "      <td>8.3</td>\n",
       "      <td>8.256385</td>\n",
       "    </tr>\n",
       "    <tr>\n",
       "      <th>292</th>\n",
       "      <td>Pulp Fiction</td>\n",
       "      <td>8.3</td>\n",
       "      <td>8.251406</td>\n",
       "    </tr>\n",
       "    <tr>\n",
       "      <th>522</th>\n",
       "      <td>Schindler's List</td>\n",
       "      <td>8.3</td>\n",
       "      <td>8.206639</td>\n",
       "    </tr>\n",
       "    <tr>\n",
       "      <th>23673</th>\n",
       "      <td>Whiplash</td>\n",
       "      <td>8.3</td>\n",
       "      <td>8.205404</td>\n",
       "    </tr>\n",
       "    <tr>\n",
       "      <th>5481</th>\n",
       "      <td>Spirited Away</td>\n",
       "      <td>8.3</td>\n",
       "      <td>8.196055</td>\n",
       "    </tr>\n",
       "    <tr>\n",
       "      <th>2211</th>\n",
       "      <td>Life Is Beautiful</td>\n",
       "      <td>8.3</td>\n",
       "      <td>8.187171</td>\n",
       "    </tr>\n",
       "    <tr>\n",
       "      <th>1178</th>\n",
       "      <td>The Godfather: Part II</td>\n",
       "      <td>8.3</td>\n",
       "      <td>8.180076</td>\n",
       "    </tr>\n",
       "    <tr>\n",
       "      <th>1152</th>\n",
       "      <td>One Flew Over the Cuckoo's Nest</td>\n",
       "      <td>8.3</td>\n",
       "      <td>8.164256</td>\n",
       "    </tr>\n",
       "    <tr>\n",
       "      <th>351</th>\n",
       "      <td>Forrest Gump</td>\n",
       "      <td>8.2</td>\n",
       "      <td>8.150272</td>\n",
       "    </tr>\n",
       "    <tr>\n",
       "      <th>1154</th>\n",
       "      <td>The Empire Strikes Back</td>\n",
       "      <td>8.2</td>\n",
       "      <td>8.132919</td>\n",
       "    </tr>\n",
       "    <tr>\n",
       "      <th>1176</th>\n",
       "      <td>Psycho</td>\n",
       "      <td>8.3</td>\n",
       "      <td>8.132715</td>\n",
       "    </tr>\n",
       "    <tr>\n",
       "      <th>18465</th>\n",
       "      <td>The Intouchables</td>\n",
       "      <td>8.2</td>\n",
       "      <td>8.125837</td>\n",
       "    </tr>\n",
       "    <tr>\n",
       "      <th>40251</th>\n",
       "      <td>Your Name.</td>\n",
       "      <td>8.5</td>\n",
       "      <td>8.112532</td>\n",
       "    </tr>\n",
       "    <tr>\n",
       "      <th>289</th>\n",
       "      <td>Leon: The Professional</td>\n",
       "      <td>8.2</td>\n",
       "      <td>8.107234</td>\n",
       "    </tr>\n",
       "    <tr>\n",
       "      <th>3030</th>\n",
       "      <td>The Green Mile</td>\n",
       "      <td>8.2</td>\n",
       "      <td>8.104511</td>\n",
       "    </tr>\n",
       "    <tr>\n",
       "      <th>1170</th>\n",
       "      <td>GoodFellas</td>\n",
       "      <td>8.2</td>\n",
       "      <td>8.077459</td>\n",
       "    </tr>\n",
       "    <tr>\n",
       "      <th>2216</th>\n",
       "      <td>American History X</td>\n",
       "      <td>8.2</td>\n",
       "      <td>8.074059</td>\n",
       "    </tr>\n",
       "    <tr>\n",
       "      <th>15480</th>\n",
       "      <td>Inception</td>\n",
       "      <td>8.1</td>\n",
       "      <td>8.072105</td>\n",
       "    </tr>\n",
       "    <tr>\n",
       "      <th>22879</th>\n",
       "      <td>Interstellar</td>\n",
       "      <td>8.1</td>\n",
       "      <td>8.065005</td>\n",
       "    </tr>\n",
       "    <tr>\n",
       "      <th>7000</th>\n",
       "      <td>The Lord of the Rings: The Return of the King</td>\n",
       "      <td>8.1</td>\n",
       "      <td>8.052649</td>\n",
       "    </tr>\n",
       "    <tr>\n",
       "      <th>256</th>\n",
       "      <td>Star Wars</td>\n",
       "      <td>8.1</td>\n",
       "      <td>8.042766</td>\n",
       "    </tr>\n",
       "    <tr>\n",
       "      <th>46</th>\n",
       "      <td>Se7en</td>\n",
       "      <td>8.1</td>\n",
       "      <td>8.034636</td>\n",
       "    </tr>\n",
       "    <tr>\n",
       "      <th>1161</th>\n",
       "      <td>12 Angry Men</td>\n",
       "      <td>8.2</td>\n",
       "      <td>8.019613</td>\n",
       "    </tr>\n",
       "    <tr>\n",
       "      <th>586</th>\n",
       "      <td>The Silence of the Lambs</td>\n",
       "      <td>8.1</td>\n",
       "      <td>8.015675</td>\n",
       "    </tr>\n",
       "    <tr>\n",
       "      <th>9698</th>\n",
       "      <td>Howl's Moving Castle</td>\n",
       "      <td>8.2</td>\n",
       "      <td>8.012998</td>\n",
       "    </tr>\n",
       "    <tr>\n",
       "      <th>2884</th>\n",
       "      <td>Princess Mononoke</td>\n",
       "      <td>8.2</td>\n",
       "      <td>8.012319</td>\n",
       "    </tr>\n",
       "    <tr>\n",
       "      <th>...</th>\n",
       "      <td>...</td>\n",
       "      <td>...</td>\n",
       "      <td>...</td>\n",
       "    </tr>\n",
       "    <tr>\n",
       "      <th>1007</th>\n",
       "      <td>Die Hard</td>\n",
       "      <td>7.5</td>\n",
       "      <td>7.427710</td>\n",
       "    </tr>\n",
       "    <tr>\n",
       "      <th>9647</th>\n",
       "      <td>Downfall</td>\n",
       "      <td>7.7</td>\n",
       "      <td>7.426754</td>\n",
       "    </tr>\n",
       "    <tr>\n",
       "      <th>2178</th>\n",
       "      <td>Edward Scissorhands</td>\n",
       "      <td>7.5</td>\n",
       "      <td>7.422620</td>\n",
       "    </tr>\n",
       "    <tr>\n",
       "      <th>25044</th>\n",
       "      <td>Song of the Sea</td>\n",
       "      <td>8.1</td>\n",
       "      <td>7.415368</td>\n",
       "    </tr>\n",
       "    <tr>\n",
       "      <th>3897</th>\n",
       "      <td>Cast Away</td>\n",
       "      <td>7.5</td>\n",
       "      <td>7.413081</td>\n",
       "    </tr>\n",
       "    <tr>\n",
       "      <th>893</th>\n",
       "      <td>Gone with the Wind</td>\n",
       "      <td>7.7</td>\n",
       "      <td>7.411613</td>\n",
       "    </tr>\n",
       "    <tr>\n",
       "      <th>1155</th>\n",
       "      <td>The Princess Bride</td>\n",
       "      <td>7.6</td>\n",
       "      <td>7.411033</td>\n",
       "    </tr>\n",
       "    <tr>\n",
       "      <th>212</th>\n",
       "      <td>Before Sunrise</td>\n",
       "      <td>7.7</td>\n",
       "      <td>7.408840</td>\n",
       "    </tr>\n",
       "    <tr>\n",
       "      <th>39821</th>\n",
       "      <td>Train to Busan</td>\n",
       "      <td>7.7</td>\n",
       "      <td>7.408840</td>\n",
       "    </tr>\n",
       "    <tr>\n",
       "      <th>22718</th>\n",
       "      <td>The Lego Movie</td>\n",
       "      <td>7.5</td>\n",
       "      <td>7.408401</td>\n",
       "    </tr>\n",
       "    <tr>\n",
       "      <th>40015</th>\n",
       "      <td>Kubo and the Two Strings</td>\n",
       "      <td>7.7</td>\n",
       "      <td>7.408330</td>\n",
       "    </tr>\n",
       "    <tr>\n",
       "      <th>1217</th>\n",
       "      <td>The Great Escape</td>\n",
       "      <td>7.8</td>\n",
       "      <td>7.408208</td>\n",
       "    </tr>\n",
       "    <tr>\n",
       "      <th>20779</th>\n",
       "      <td>Wolf Children</td>\n",
       "      <td>8.0</td>\n",
       "      <td>7.407330</td>\n",
       "    </tr>\n",
       "    <tr>\n",
       "      <th>6721</th>\n",
       "      <td>Mystic River</td>\n",
       "      <td>7.6</td>\n",
       "      <td>7.405826</td>\n",
       "    </tr>\n",
       "    <tr>\n",
       "      <th>588</th>\n",
       "      <td>Beauty and the Beast</td>\n",
       "      <td>7.5</td>\n",
       "      <td>7.405586</td>\n",
       "    </tr>\n",
       "    <tr>\n",
       "      <th>2646</th>\n",
       "      <td>The Iron Giant</td>\n",
       "      <td>7.6</td>\n",
       "      <td>7.405468</td>\n",
       "    </tr>\n",
       "    <tr>\n",
       "      <th>1185</th>\n",
       "      <td>Raging Bull</td>\n",
       "      <td>7.7</td>\n",
       "      <td>7.404710</td>\n",
       "    </tr>\n",
       "    <tr>\n",
       "      <th>27866</th>\n",
       "      <td>Me and Earl and the Dying Girl</td>\n",
       "      <td>7.7</td>\n",
       "      <td>7.403131</td>\n",
       "    </tr>\n",
       "    <tr>\n",
       "      <th>2085</th>\n",
       "      <td>The Untouchables</td>\n",
       "      <td>7.6</td>\n",
       "      <td>7.399819</td>\n",
       "    </tr>\n",
       "    <tr>\n",
       "      <th>1193</th>\n",
       "      <td>The Seventh Seal</td>\n",
       "      <td>7.9</td>\n",
       "      <td>7.399195</td>\n",
       "    </tr>\n",
       "    <tr>\n",
       "      <th>5157</th>\n",
       "      <td>Rashomon</td>\n",
       "      <td>8.0</td>\n",
       "      <td>7.396059</td>\n",
       "    </tr>\n",
       "    <tr>\n",
       "      <th>44678</th>\n",
       "      <td>Dunkirk</td>\n",
       "      <td>7.5</td>\n",
       "      <td>7.395165</td>\n",
       "    </tr>\n",
       "    <tr>\n",
       "      <th>1338</th>\n",
       "      <td>Jaws</td>\n",
       "      <td>7.5</td>\n",
       "      <td>7.392006</td>\n",
       "    </tr>\n",
       "    <tr>\n",
       "      <th>1215</th>\n",
       "      <td>M</td>\n",
       "      <td>8.0</td>\n",
       "      <td>7.390261</td>\n",
       "    </tr>\n",
       "    <tr>\n",
       "      <th>8147</th>\n",
       "      <td>Shaun of the Dead</td>\n",
       "      <td>7.5</td>\n",
       "      <td>7.385909</td>\n",
       "    </tr>\n",
       "    <tr>\n",
       "      <th>42015</th>\n",
       "      <td>The Invisible Guest</td>\n",
       "      <td>8.1</td>\n",
       "      <td>7.384528</td>\n",
       "    </tr>\n",
       "    <tr>\n",
       "      <th>1233</th>\n",
       "      <td>Young Frankenstein</td>\n",
       "      <td>7.7</td>\n",
       "      <td>7.379724</td>\n",
       "    </tr>\n",
       "    <tr>\n",
       "      <th>24902</th>\n",
       "      <td>Wild Tales</td>\n",
       "      <td>7.7</td>\n",
       "      <td>7.379107</td>\n",
       "    </tr>\n",
       "    <tr>\n",
       "      <th>1054</th>\n",
       "      <td>Dial M for Murder</td>\n",
       "      <td>7.9</td>\n",
       "      <td>7.377701</td>\n",
       "    </tr>\n",
       "    <tr>\n",
       "      <th>17818</th>\n",
       "      <td>The Avengers</td>\n",
       "      <td>7.4</td>\n",
       "      <td>7.376555</td>\n",
       "    </tr>\n",
       "  </tbody>\n",
       "</table>\n",
       "<p>250 rows × 3 columns</p>\n",
       "</div>"
      ],
      "text/plain": [
       "                                               title  vote_average  \\\n",
       "314                         The Shawshank Redemption           8.5   \n",
       "834                                    The Godfather           8.5   \n",
       "10309                    Dilwale Dulhania Le Jayenge           9.1   \n",
       "12481                                The Dark Knight           8.3   \n",
       "2843                                      Fight Club           8.3   \n",
       "292                                     Pulp Fiction           8.3   \n",
       "522                                 Schindler's List           8.3   \n",
       "23673                                       Whiplash           8.3   \n",
       "5481                                   Spirited Away           8.3   \n",
       "2211                               Life Is Beautiful           8.3   \n",
       "1178                          The Godfather: Part II           8.3   \n",
       "1152                 One Flew Over the Cuckoo's Nest           8.3   \n",
       "351                                     Forrest Gump           8.2   \n",
       "1154                         The Empire Strikes Back           8.2   \n",
       "1176                                          Psycho           8.3   \n",
       "18465                               The Intouchables           8.2   \n",
       "40251                                     Your Name.           8.5   \n",
       "289                           Leon: The Professional           8.2   \n",
       "3030                                  The Green Mile           8.2   \n",
       "1170                                      GoodFellas           8.2   \n",
       "2216                              American History X           8.2   \n",
       "15480                                      Inception           8.1   \n",
       "22879                                   Interstellar           8.1   \n",
       "7000   The Lord of the Rings: The Return of the King           8.1   \n",
       "256                                        Star Wars           8.1   \n",
       "46                                             Se7en           8.1   \n",
       "1161                                    12 Angry Men           8.2   \n",
       "586                         The Silence of the Lambs           8.1   \n",
       "9698                            Howl's Moving Castle           8.2   \n",
       "2884                               Princess Mononoke           8.2   \n",
       "...                                              ...           ...   \n",
       "1007                                        Die Hard           7.5   \n",
       "9647                                        Downfall           7.7   \n",
       "2178                             Edward Scissorhands           7.5   \n",
       "25044                                Song of the Sea           8.1   \n",
       "3897                                       Cast Away           7.5   \n",
       "893                               Gone with the Wind           7.7   \n",
       "1155                              The Princess Bride           7.6   \n",
       "212                                   Before Sunrise           7.7   \n",
       "39821                                 Train to Busan           7.7   \n",
       "22718                                 The Lego Movie           7.5   \n",
       "40015                       Kubo and the Two Strings           7.7   \n",
       "1217                                The Great Escape           7.8   \n",
       "20779                                  Wolf Children           8.0   \n",
       "6721                                    Mystic River           7.6   \n",
       "588                             Beauty and the Beast           7.5   \n",
       "2646                                  The Iron Giant           7.6   \n",
       "1185                                     Raging Bull           7.7   \n",
       "27866                 Me and Earl and the Dying Girl           7.7   \n",
       "2085                                The Untouchables           7.6   \n",
       "1193                                The Seventh Seal           7.9   \n",
       "5157                                        Rashomon           8.0   \n",
       "44678                                        Dunkirk           7.5   \n",
       "1338                                            Jaws           7.5   \n",
       "1215                                               M           8.0   \n",
       "8147                               Shaun of the Dead           7.5   \n",
       "42015                            The Invisible Guest           8.1   \n",
       "1233                              Young Frankenstein           7.7   \n",
       "24902                                     Wild Tales           7.7   \n",
       "1054                               Dial M for Murder           7.9   \n",
       "17818                                   The Avengers           7.4   \n",
       "\n",
       "       Weighted_rating  \n",
       "314           8.445869  \n",
       "834           8.425439  \n",
       "10309         8.421453  \n",
       "12481         8.265477  \n",
       "2843          8.256385  \n",
       "292           8.251406  \n",
       "522           8.206639  \n",
       "23673         8.205404  \n",
       "5481          8.196055  \n",
       "2211          8.187171  \n",
       "1178          8.180076  \n",
       "1152          8.164256  \n",
       "351           8.150272  \n",
       "1154          8.132919  \n",
       "1176          8.132715  \n",
       "18465         8.125837  \n",
       "40251         8.112532  \n",
       "289           8.107234  \n",
       "3030          8.104511  \n",
       "1170          8.077459  \n",
       "2216          8.074059  \n",
       "15480         8.072105  \n",
       "22879         8.065005  \n",
       "7000          8.052649  \n",
       "256           8.042766  \n",
       "46            8.034636  \n",
       "1161          8.019613  \n",
       "586           8.015675  \n",
       "9698          8.012998  \n",
       "2884          8.012319  \n",
       "...                ...  \n",
       "1007          7.427710  \n",
       "9647          7.426754  \n",
       "2178          7.422620  \n",
       "25044         7.415368  \n",
       "3897          7.413081  \n",
       "893           7.411613  \n",
       "1155          7.411033  \n",
       "212           7.408840  \n",
       "39821         7.408840  \n",
       "22718         7.408401  \n",
       "40015         7.408330  \n",
       "1217          7.408208  \n",
       "20779         7.407330  \n",
       "6721          7.405826  \n",
       "588           7.405586  \n",
       "2646          7.405468  \n",
       "1185          7.404710  \n",
       "27866         7.403131  \n",
       "2085          7.399819  \n",
       "1193          7.399195  \n",
       "5157          7.396059  \n",
       "44678         7.395165  \n",
       "1338          7.392006  \n",
       "1215          7.390261  \n",
       "8147          7.385909  \n",
       "42015         7.384528  \n",
       "1233          7.379724  \n",
       "24902         7.379107  \n",
       "1054          7.377701  \n",
       "17818         7.376555  \n",
       "\n",
       "[250 rows x 3 columns]"
      ]
     },
     "execution_count": 72,
     "metadata": {},
     "output_type": "execute_result"
    }
   ],
   "source": [
    "#returning top 250 movies\n",
    "data_imdb_2[['title','vote_average','Weighted_rating']].sort_values(by='Weighted_rating',ascending=False).head(250)"
   ]
  },
  {
   "cell_type": "code",
   "execution_count": 73,
   "metadata": {},
   "outputs": [
    {
     "name": "stdout",
     "output_type": "stream",
     "text": [
      "<class 'pandas.core.frame.DataFrame'>\n",
      "RangeIndex: 45466 entries, 0 to 45465\n",
      "Data columns (total 23 columns):\n",
      "id                       45466 non-null object\n",
      "belongs_to_collection    4494 non-null object\n",
      "budget                   45466 non-null object\n",
      "genres                   45466 non-null object\n",
      "homepage                 7782 non-null object\n",
      "imdb_id                  45449 non-null object\n",
      "original_language        45455 non-null object\n",
      "original_title           45466 non-null object\n",
      "overview                 44512 non-null object\n",
      "popularity               45461 non-null object\n",
      "poster_path              45080 non-null object\n",
      "production_companies     45463 non-null object\n",
      "production_countries     45463 non-null object\n",
      "release_date             45379 non-null object\n",
      "revenue                  45460 non-null float64\n",
      "runtime                  45203 non-null float64\n",
      "spoken_languages         45460 non-null object\n",
      "status                   45379 non-null object\n",
      "tagline                  20412 non-null object\n",
      "title                    45460 non-null object\n",
      "video                    45460 non-null object\n",
      "vote_average             45460 non-null float64\n",
      "vote_count               45460 non-null float64\n",
      "dtypes: float64(4), object(19)\n",
      "memory usage: 8.0+ MB\n"
     ]
    }
   ],
   "source": [
    "data_imdb.info()"
   ]
  },
  {
   "cell_type": "code",
   "execution_count": 74,
   "metadata": {},
   "outputs": [
    {
     "name": "stdout",
     "output_type": "stream",
     "text": [
      "<class 'pandas.core.frame.DataFrame'>\n",
      "RangeIndex: 45466 entries, 0 to 45465\n",
      "Data columns (total 4 columns):\n",
      "revenue         45460 non-null float64\n",
      "runtime         45203 non-null float64\n",
      "vote_average    45460 non-null float64\n",
      "vote_count      45460 non-null float64\n",
      "dtypes: float64(4)\n",
      "memory usage: 1.4 MB\n"
     ]
    }
   ],
   "source": [
    "#creating new dataframe for only numeric variables\n",
    "data_num=data_imdb.select_dtypes(exclude=['object'])\n",
    "data_num.info()"
   ]
  },
  {
   "cell_type": "code",
   "execution_count": 75,
   "metadata": {},
   "outputs": [
    {
     "data": {
      "text/html": [
       "<div>\n",
       "<style scoped>\n",
       "    .dataframe tbody tr th:only-of-type {\n",
       "        vertical-align: middle;\n",
       "    }\n",
       "\n",
       "    .dataframe tbody tr th {\n",
       "        vertical-align: top;\n",
       "    }\n",
       "\n",
       "    .dataframe thead th {\n",
       "        text-align: right;\n",
       "    }\n",
       "</style>\n",
       "<table border=\"1\" class=\"dataframe\">\n",
       "  <thead>\n",
       "    <tr style=\"text-align: right;\">\n",
       "      <th></th>\n",
       "      <th>id</th>\n",
       "      <th>belongs_to_collection</th>\n",
       "      <th>budget</th>\n",
       "      <th>genres</th>\n",
       "      <th>homepage</th>\n",
       "      <th>imdb_id</th>\n",
       "      <th>original_language</th>\n",
       "      <th>original_title</th>\n",
       "      <th>overview</th>\n",
       "      <th>popularity</th>\n",
       "      <th>poster_path</th>\n",
       "      <th>production_companies</th>\n",
       "      <th>production_countries</th>\n",
       "      <th>release_date</th>\n",
       "      <th>spoken_languages</th>\n",
       "      <th>status</th>\n",
       "      <th>tagline</th>\n",
       "      <th>title</th>\n",
       "      <th>video</th>\n",
       "    </tr>\n",
       "  </thead>\n",
       "  <tbody>\n",
       "    <tr>\n",
       "      <th>0</th>\n",
       "      <td>862</td>\n",
       "      <td>{'id': 10194, 'name': 'Toy Story Collection', ...</td>\n",
       "      <td>30000000</td>\n",
       "      <td>[{'id': 16, 'name': 'Animation'}, {'id': 35, '...</td>\n",
       "      <td>http://toystory.disney.com/toy-story</td>\n",
       "      <td>tt0114709</td>\n",
       "      <td>en</td>\n",
       "      <td>Toy Story</td>\n",
       "      <td>Led by Woody, Andy's toys live happily in his ...</td>\n",
       "      <td>21.9469</td>\n",
       "      <td>/rhIRbceoE9lR4veEXuwCC2wARtG.jpg</td>\n",
       "      <td>[{'name': 'Pixar Animation Studios', 'id': 3}]</td>\n",
       "      <td>[{'iso_3166_1': 'US', 'name': 'United States o...</td>\n",
       "      <td>10/30/1995</td>\n",
       "      <td>[{'iso_639_1': 'en', 'name': 'English'}]</td>\n",
       "      <td>Released</td>\n",
       "      <td>NaN</td>\n",
       "      <td>Toy Story</td>\n",
       "      <td>False</td>\n",
       "    </tr>\n",
       "    <tr>\n",
       "      <th>1</th>\n",
       "      <td>8844</td>\n",
       "      <td>NaN</td>\n",
       "      <td>65000000</td>\n",
       "      <td>[{'id': 12, 'name': 'Adventure'}, {'id': 14, '...</td>\n",
       "      <td>NaN</td>\n",
       "      <td>tt0113497</td>\n",
       "      <td>en</td>\n",
       "      <td>Jumanji</td>\n",
       "      <td>When siblings Judy and Peter discover an encha...</td>\n",
       "      <td>17.0155</td>\n",
       "      <td>/vzmL6fP7aPKNKPRTFnZmiUfciyV.jpg</td>\n",
       "      <td>[{'name': 'TriStar Pictures', 'id': 559}, {'na...</td>\n",
       "      <td>[{'iso_3166_1': 'US', 'name': 'United States o...</td>\n",
       "      <td>12/15/1995</td>\n",
       "      <td>[{'iso_639_1': 'en', 'name': 'English'}, {'iso...</td>\n",
       "      <td>Released</td>\n",
       "      <td>Roll the dice and unleash the excitement!</td>\n",
       "      <td>Jumanji</td>\n",
       "      <td>False</td>\n",
       "    </tr>\n",
       "    <tr>\n",
       "      <th>2</th>\n",
       "      <td>15602</td>\n",
       "      <td>{'id': 119050, 'name': 'Grumpy Old Men Collect...</td>\n",
       "      <td>0</td>\n",
       "      <td>[{'id': 10749, 'name': 'Romance'}, {'id': 35, ...</td>\n",
       "      <td>NaN</td>\n",
       "      <td>tt0113228</td>\n",
       "      <td>en</td>\n",
       "      <td>Grumpier Old Men</td>\n",
       "      <td>A family wedding reignites the ancient feud be...</td>\n",
       "      <td>11.7129</td>\n",
       "      <td>/6ksm1sjKMFLbO7UY2i6G1ju9SML.jpg</td>\n",
       "      <td>[{'name': 'Warner Bros.', 'id': 6194}, {'name'...</td>\n",
       "      <td>[{'iso_3166_1': 'US', 'name': 'United States o...</td>\n",
       "      <td>12/22/1995</td>\n",
       "      <td>[{'iso_639_1': 'en', 'name': 'English'}]</td>\n",
       "      <td>Released</td>\n",
       "      <td>Still Yelling. Still Fighting. Still Ready for...</td>\n",
       "      <td>Grumpier Old Men</td>\n",
       "      <td>False</td>\n",
       "    </tr>\n",
       "    <tr>\n",
       "      <th>3</th>\n",
       "      <td>31357</td>\n",
       "      <td>NaN</td>\n",
       "      <td>16000000</td>\n",
       "      <td>[{'id': 35, 'name': 'Comedy'}, {'id': 18, 'nam...</td>\n",
       "      <td>NaN</td>\n",
       "      <td>tt0114885</td>\n",
       "      <td>en</td>\n",
       "      <td>Waiting to Exhale</td>\n",
       "      <td>Cheated on, mistreated and stepped on, the wom...</td>\n",
       "      <td>3.85949</td>\n",
       "      <td>/16XOMpEaLWkrcPqSQqhTmeJuqQl.jpg</td>\n",
       "      <td>[{'name': 'Twentieth Century Fox Film Corporat...</td>\n",
       "      <td>[{'iso_3166_1': 'US', 'name': 'United States o...</td>\n",
       "      <td>12/22/1995</td>\n",
       "      <td>[{'iso_639_1': 'en', 'name': 'English'}]</td>\n",
       "      <td>Released</td>\n",
       "      <td>Friends are the people who let you be yourself...</td>\n",
       "      <td>Waiting to Exhale</td>\n",
       "      <td>False</td>\n",
       "    </tr>\n",
       "    <tr>\n",
       "      <th>4</th>\n",
       "      <td>11862</td>\n",
       "      <td>{'id': 96871, 'name': 'Father of the Bride Col...</td>\n",
       "      <td>0</td>\n",
       "      <td>[{'id': 35, 'name': 'Comedy'}]</td>\n",
       "      <td>NaN</td>\n",
       "      <td>tt0113041</td>\n",
       "      <td>en</td>\n",
       "      <td>Father of the Bride Part II</td>\n",
       "      <td>Just when George Banks has recovered from his ...</td>\n",
       "      <td>8.38752</td>\n",
       "      <td>/e64sOI48hQXyru7naBFyssKFxVd.jpg</td>\n",
       "      <td>[{'name': 'Sandollar Productions', 'id': 5842}...</td>\n",
       "      <td>[{'iso_3166_1': 'US', 'name': 'United States o...</td>\n",
       "      <td>2/10/1995</td>\n",
       "      <td>[{'iso_639_1': 'en', 'name': 'English'}]</td>\n",
       "      <td>Released</td>\n",
       "      <td>Just When His World Is Back To Normal... He's ...</td>\n",
       "      <td>Father of the Bride Part II</td>\n",
       "      <td>False</td>\n",
       "    </tr>\n",
       "  </tbody>\n",
       "</table>\n",
       "</div>"
      ],
      "text/plain": [
       "      id                              belongs_to_collection    budget  \\\n",
       "0    862  {'id': 10194, 'name': 'Toy Story Collection', ...  30000000   \n",
       "1   8844                                                NaN  65000000   \n",
       "2  15602  {'id': 119050, 'name': 'Grumpy Old Men Collect...         0   \n",
       "3  31357                                                NaN  16000000   \n",
       "4  11862  {'id': 96871, 'name': 'Father of the Bride Col...         0   \n",
       "\n",
       "                                              genres  \\\n",
       "0  [{'id': 16, 'name': 'Animation'}, {'id': 35, '...   \n",
       "1  [{'id': 12, 'name': 'Adventure'}, {'id': 14, '...   \n",
       "2  [{'id': 10749, 'name': 'Romance'}, {'id': 35, ...   \n",
       "3  [{'id': 35, 'name': 'Comedy'}, {'id': 18, 'nam...   \n",
       "4                     [{'id': 35, 'name': 'Comedy'}]   \n",
       "\n",
       "                               homepage    imdb_id original_language  \\\n",
       "0  http://toystory.disney.com/toy-story  tt0114709                en   \n",
       "1                                   NaN  tt0113497                en   \n",
       "2                                   NaN  tt0113228                en   \n",
       "3                                   NaN  tt0114885                en   \n",
       "4                                   NaN  tt0113041                en   \n",
       "\n",
       "                original_title  \\\n",
       "0                    Toy Story   \n",
       "1                      Jumanji   \n",
       "2             Grumpier Old Men   \n",
       "3            Waiting to Exhale   \n",
       "4  Father of the Bride Part II   \n",
       "\n",
       "                                            overview popularity  \\\n",
       "0  Led by Woody, Andy's toys live happily in his ...    21.9469   \n",
       "1  When siblings Judy and Peter discover an encha...    17.0155   \n",
       "2  A family wedding reignites the ancient feud be...    11.7129   \n",
       "3  Cheated on, mistreated and stepped on, the wom...    3.85949   \n",
       "4  Just when George Banks has recovered from his ...    8.38752   \n",
       "\n",
       "                        poster_path  \\\n",
       "0  /rhIRbceoE9lR4veEXuwCC2wARtG.jpg   \n",
       "1  /vzmL6fP7aPKNKPRTFnZmiUfciyV.jpg   \n",
       "2  /6ksm1sjKMFLbO7UY2i6G1ju9SML.jpg   \n",
       "3  /16XOMpEaLWkrcPqSQqhTmeJuqQl.jpg   \n",
       "4  /e64sOI48hQXyru7naBFyssKFxVd.jpg   \n",
       "\n",
       "                                production_companies  \\\n",
       "0     [{'name': 'Pixar Animation Studios', 'id': 3}]   \n",
       "1  [{'name': 'TriStar Pictures', 'id': 559}, {'na...   \n",
       "2  [{'name': 'Warner Bros.', 'id': 6194}, {'name'...   \n",
       "3  [{'name': 'Twentieth Century Fox Film Corporat...   \n",
       "4  [{'name': 'Sandollar Productions', 'id': 5842}...   \n",
       "\n",
       "                                production_countries release_date  \\\n",
       "0  [{'iso_3166_1': 'US', 'name': 'United States o...   10/30/1995   \n",
       "1  [{'iso_3166_1': 'US', 'name': 'United States o...   12/15/1995   \n",
       "2  [{'iso_3166_1': 'US', 'name': 'United States o...   12/22/1995   \n",
       "3  [{'iso_3166_1': 'US', 'name': 'United States o...   12/22/1995   \n",
       "4  [{'iso_3166_1': 'US', 'name': 'United States o...    2/10/1995   \n",
       "\n",
       "                                    spoken_languages    status  \\\n",
       "0           [{'iso_639_1': 'en', 'name': 'English'}]  Released   \n",
       "1  [{'iso_639_1': 'en', 'name': 'English'}, {'iso...  Released   \n",
       "2           [{'iso_639_1': 'en', 'name': 'English'}]  Released   \n",
       "3           [{'iso_639_1': 'en', 'name': 'English'}]  Released   \n",
       "4           [{'iso_639_1': 'en', 'name': 'English'}]  Released   \n",
       "\n",
       "                                             tagline  \\\n",
       "0                                                NaN   \n",
       "1          Roll the dice and unleash the excitement!   \n",
       "2  Still Yelling. Still Fighting. Still Ready for...   \n",
       "3  Friends are the people who let you be yourself...   \n",
       "4  Just When His World Is Back To Normal... He's ...   \n",
       "\n",
       "                         title  video  \n",
       "0                    Toy Story  False  \n",
       "1                      Jumanji  False  \n",
       "2             Grumpier Old Men  False  \n",
       "3            Waiting to Exhale  False  \n",
       "4  Father of the Bride Part II  False  "
      ]
     },
     "execution_count": 75,
     "metadata": {},
     "output_type": "execute_result"
    }
   ],
   "source": [
    "#creating new dataframe for only object variables\n",
    "data_obj=data_imdb.select_dtypes(include=['object'])\n",
    "data_obj.head()"
   ]
  },
  {
   "cell_type": "markdown",
   "metadata": {},
   "source": [
    "## Pandas Charts"
   ]
  },
  {
   "cell_type": "code",
   "execution_count": 76,
   "metadata": {},
   "outputs": [
    {
     "data": {
      "image/png": "[encoded data removed]",
      "text/plain": [
       "<Figure size 720x432 with 1 Axes>"
      ]
     },
     "metadata": {
      "needs_background": "light"
     },
     "output_type": "display_data"
    }
   ],
   "source": [
    "plt.figure(figsize=(10,6))\n",
    "\n",
    "data_imdb_2.groupby(['original_language'])['Weighted_rating'].mean().plot(kind='bar')\n",
    "\n",
    "plt.xlabel('Language') #title of x-axis\n",
    "plt.ylabel('Rating') #title of y-axis\n",
    "plt.title('Weighted_rating by lang') #chart title\n",
    "\n",
    "plt.show() #show a chart"
   ]
  },
  {
   "cell_type": "code",
   "execution_count": 77,
   "metadata": {},
   "outputs": [
    {
     "data": {
      "image/png": "[encoded data removed]",
      "text/plain": [
       "<Figure size 720x432 with 1 Axes>"
      ]
     },
     "metadata": {
      "needs_background": "light"
     },
     "output_type": "display_data"
    }
   ],
   "source": [
    "#line chart\n",
    "plt.figure(figsize=(10,6))\n",
    "\n",
    "data_imdb_2.groupby(['original_language'])['Weighted_rating'].mean().plot(kind='line')\n",
    "\n",
    "plt.xlabel('Language')\n",
    "plt.ylabel('Rating')\n",
    "plt.title('Weighted_rating by lang')\n",
    "plt.show()"
   ]
  },
  {
   "cell_type": "markdown",
   "metadata": {},
   "source": [
    "# Matplotlib charts"
   ]
  },
  {
   "cell_type": "code",
   "execution_count": 78,
   "metadata": {},
   "outputs": [
    {
     "data": {
      "image/png": "[encoded data removed]",
      "text/plain": [
       "<Figure size 720x360 with 1 Axes>"
      ]
     },
     "metadata": {
      "needs_background": "light"
     },
     "output_type": "display_data"
    }
   ],
   "source": [
    "#bar chart\n",
    "plt.figure(figsize=(10,5))\n",
    "\n",
    "plt.bar(data_imdb_2.original_language.unique(),\n",
    "       data_imdb_2.groupby(['original_language'])['Weighted_rating'].mean(),\n",
    "       color='#a210eb') # search for color picker in google and use the codes from there\n",
    "\n",
    "plt.show()"
   ]
  },
  {
   "cell_type": "code",
   "execution_count": 79,
   "metadata": {},
   "outputs": [
    {
     "name": "stderr",
     "output_type": "stream",
     "text": [
      "C:\\Users\\psargsyan\\Anaconda3\\lib\\site-packages\\numpy\\lib\\histograms.py:754: RuntimeWarning: invalid value encountered in greater_equal\n",
      "  keep = (tmp_a >= first_edge)\n",
      "C:\\Users\\psargsyan\\Anaconda3\\lib\\site-packages\\numpy\\lib\\histograms.py:755: RuntimeWarning: invalid value encountered in less_equal\n",
      "  keep &= (tmp_a <= last_edge)\n"
     ]
    },
    {
     "data": {
      "image/png": "[encoded data removed]",
      "text/plain": [
       "<Figure size 432x288 with 1 Axes>"
      ]
     },
     "metadata": {
      "needs_background": "light"
     },
     "output_type": "display_data"
    }
   ],
   "source": [
    "#histogram\n",
    "plt.hist(data_num['revenue'])\n",
    "plt.show()"
   ]
  },
  {
   "cell_type": "code",
   "execution_count": 80,
   "metadata": {},
   "outputs": [
    {
     "data": {
      "image/png": "[encoded data removed]",
      "text/plain": [
       "<Figure size 432x288 with 1 Axes>"
      ]
     },
     "metadata": {
      "needs_background": "light"
     },
     "output_type": "display_data"
    },
    {
     "data": {
      "image/png": "[encoded data removed]",
      "text/plain": [
       "<Figure size 432x288 with 1 Axes>"
      ]
     },
     "metadata": {
      "needs_background": "light"
     },
     "output_type": "display_data"
    },
    {
     "data": {
      "image/png": "[encoded data removed]",
      "text/plain": [
       "<Figure size 432x288 with 1 Axes>"
      ]
     },
     "metadata": {
      "needs_background": "light"
     },
     "output_type": "display_data"
    },
    {
     "data": {
      "image/png": "[encoded data removed]",
      "text/plain": [
       "<Figure size 432x288 with 1 Axes>"
      ]
     },
     "metadata": {
      "needs_background": "light"
     },
     "output_type": "display_data"
    }
   ],
   "source": [
    "#printing histograms of all numeric variables\n",
    "for i in data_num.columns:\n",
    "    plt.hist(data_num[i],bins=15)\n",
    "    plt.title(i)\n",
    "    plt.show()"
   ]
  },
  {
   "cell_type": "code",
   "execution_count": 81,
   "metadata": {},
   "outputs": [
    {
     "data": {
      "image/png": "[encoded data removed]",
      "text/plain": [
       "<Figure size 864x864 with 1 Axes>"
      ]
     },
     "metadata": {},
     "output_type": "display_data"
    }
   ],
   "source": [
    "#pie chart\n",
    "plt.figure(figsize=(12,12))\n",
    "\n",
    "plt.pie(data_imdb_2.original_language.value_counts(),\n",
    "       labels=data_imdb_2.original_language.unique())\n",
    "\n",
    "plt.legend() #returns the legend of chart\n",
    "\n",
    "plt.show()"
   ]
  }
 ],
 "metadata": {
  "kernelspec": {
   "display_name": "Python 3 (ipykernel)",
   "language": "python",
   "name": "python3"
  },
  "language_info": {
   "codemirror_mode": {
    "name": "ipython",
    "version": 3
   },
   "file_extension": ".py",
   "mimetype": "text/x-python",
   "name": "python",
   "nbconvert_exporter": "python",
   "pygments_lexer": "ipython3",
   "version": "3.10.9"
  }
 },
 "nbformat": 4,
 "nbformat_minor": 2
}
